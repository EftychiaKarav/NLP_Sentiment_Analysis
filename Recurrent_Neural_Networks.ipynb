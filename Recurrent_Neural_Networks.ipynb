{
  "cells": [
    {
      "cell_type": "markdown",
      "metadata": {
        "id": "KwOxbZmzAwrp"
      },
      "source": [
        "# USEFUL NOTES\n",
        "\n",
        "\n",
        "\n",
        "*   Execute all cells until <font color='cyan'>TRAINING EVALUATION </font>(this one too)\n",
        "*   <font color='cyan'>Confusion matrix</font> concerns the <font color='cyan'>VALIDATION SET</font>\n",
        "*   At all experiments, the <font color='cyan'>table</font> which is between the confusion matrix and the learning curve of the model concerns <font color='cyan'>ONLY THE VALIDATION SET</font>\n",
        "*   <font color='lightgreen'>Execute all the cells below heading FINAL MODEL</font>\n",
        "*   If you want to execute the cells with the various experiments, please follow the instructions provided below (at each heading) on how to do it.\n",
        "*   Please, <font color='light magenta'>DO NOT RUN </font>the <font color='light magenta'> EXPERIMENTS PART. </font> The results are already displayed, because it would be time-consuming to run.\n",
        "\n",
        "\n",
        "\n",
        "\n"
      ]
    },
    {
      "cell_type": "markdown",
      "metadata": {
        "id": "nBHRJXJZEa2G"
      },
      "source": [
        "# <font color = 'lightbrown'>LIBRARIES</font>"
      ]
    },
    {
      "cell_type": "code",
      "execution_count": 277,
      "metadata": {
        "colab": {
          "base_uri": "https://localhost:8080/"
        },
        "id": "6VgcIW5-4ZbP",
        "outputId": "a82fb461-ead9-4289-896a-94c015bafc0c"
      },
      "outputs": [
        {
          "name": "stdout",
          "output_type": "stream",
          "text": [
            "[nltk_data] Downloading package wordnet to /root/nltk_data...\n",
            "[nltk_data]   Package wordnet is already up-to-date!\n",
            "[nltk_data] Downloading package stopwords to /root/nltk_data...\n",
            "[nltk_data]   Package stopwords is already up-to-date!\n",
            "[nltk_data] Downloading package punkt to /root/nltk_data...\n",
            "[nltk_data]   Package punkt is already up-to-date!\n"
          ]
        }
      ],
      "source": [
        "import pandas as pd\n",
        "import numpy as np\n",
        "import nltk\n",
        "import math\n",
        "nltk.download('wordnet')\n",
        "nltk.download('stopwords')\n",
        "nltk.download('punkt')\n",
        "from IPython.display import Math, HTML\n",
        "from nltk.tokenize import word_tokenize\n",
        "from nltk.corpus import stopwords\n",
        "from nltk.stem import PorterStemmer\n",
        "from nltk.stem import WordNetLemmatizer\n",
        "from nltk import RegexpTokenizer\n",
        "import matplotlib.pyplot as plt\n",
        "import sklearn\n",
        "from sklearn.linear_model import LogisticRegression\n",
        "from sklearn.preprocessing import StandardScaler\n",
        "from sklearn.metrics import confusion_matrix, ConfusionMatrixDisplay\n",
        "from sklearn.metrics import f1_score\n",
        "from sklearn.metrics import precision_score\n",
        "from sklearn.metrics import recall_score\n",
        "from sklearn.metrics import accuracy_score\n",
        "from sklearn.metrics import classification_report\n",
        "from sklearn.metrics import roc_curve, roc_auc_score\n",
        "import torch\n",
        "import torchtext.legacy\n",
        "import torch.nn as nn\n",
        "import matplotlib.pyplot as plt\n",
        "import pandas as pd\n",
        "from torch.utils.data import Dataset\n",
        "from torch.utils.data import DataLoader\n",
        "from torchvision import datasets, transforms\n",
        "from torchtext.legacy import data\n",
        "\n",
        "# Imports\n",
        "import torch.nn.functional as F\n",
        "import torch.optim as optim\n",
        "import os\n",
        "%matplotlib inline\n",
        "import sklearn.metrics\n",
        "import seaborn as sns\n",
        "import random\n",
        "import sys\n",
        "from IPython.display import Image\n"
      ]
    },
    {
      "cell_type": "code",
      "execution_count": 278,
      "metadata": {
        "colab": {
          "base_uri": "https://localhost:8080/"
        },
        "id": "z_yNIlfXsusO",
        "outputId": "1962af04-b8e1-414b-aa3f-2cafe080faee"
      },
      "outputs": [
        {
          "name": "stdout",
          "output_type": "stream",
          "text": [
            "--2022-01-30 15:36:17--  https://nlp.stanford.edu/data/glove.6B.zip\n",
            "Resolving nlp.stanford.edu (nlp.stanford.edu)... 171.64.67.140\n",
            "Connecting to nlp.stanford.edu (nlp.stanford.edu)|171.64.67.140|:443... connected.\n",
            "HTTP request sent, awaiting response... 301 Moved Permanently\n",
            "Location: http://downloads.cs.stanford.edu/nlp/data/glove.6B.zip [following]\n",
            "--2022-01-30 15:36:17--  http://downloads.cs.stanford.edu/nlp/data/glove.6B.zip\n",
            "Resolving downloads.cs.stanford.edu (downloads.cs.stanford.edu)... 171.64.64.22\n",
            "Connecting to downloads.cs.stanford.edu (downloads.cs.stanford.edu)|171.64.64.22|:80... connected.\n",
            "HTTP request sent, awaiting response... 200 OK\n",
            "Length: 862182613 (822M) [application/zip]\n",
            "Saving to: ‘glove.6B.zip.1’\n",
            "\n",
            "glove.6B.zip.1       10%[=>                  ]  89.03M  6.75MB/s    eta 1m 49s ^C\n",
            "Archive:  glove.6B.zip\n",
            "replace glove.6B.50d.txt? [y]es, [n]o, [A]ll, [N]one, [r]ename: n\n",
            "replace glove.6B.100d.txt? [y]es, [n]o, [A]ll, [N]one, [r]ename: n\n",
            "replace glove.6B.200d.txt? [y]es, [n]o, [A]ll, [N]one, [r]ename: n\n",
            "replace glove.6B.300d.txt? [y]es, [n]o, [A]ll, [N]one, [r]ename: n\n"
          ]
        }
      ],
      "source": [
        "!wget https://nlp.stanford.edu/data/glove.6B.zip\n",
        "!unzip glove.6B.zip"
      ]
    },
    {
      "cell_type": "code",
      "execution_count": 279,
      "metadata": {
        "id": "h-ioSNT3p4yw"
      },
      "outputs": [],
      "source": [
        "def set_seed(seed = 1234):\n",
        "    '''Sets the seed of the entire notebook so results are the same every time we run.\n",
        "    This is for REPRODUCIBILITY.'''\n",
        "    np.random.seed(seed)\n",
        "    random.seed(seed)\n",
        "    torch.manual_seed(seed)\n",
        "    torch.cuda.manual_seed(seed)\n",
        "    # When running on the CuDNN backend, two further options must be set\n",
        "    torch.backends.cudnn.deterministic = True\n",
        "    # Set a fixed value for the hash seed\n",
        "    os.environ['PYTHONHASHSEED'] = str(seed)\n",
        "    \n",
        "set_seed()\n",
        "\n",
        "# device = 'cpu'\n",
        "# print('Working on:', device)"
      ]
    },
    {
      "cell_type": "markdown",
      "metadata": {
        "id": "Z-8FXn_DqciK"
      },
      "source": [
        "# CONNECTION WITH GOOGLE DRIVE TO GET THE FILES"
      ]
    },
    {
      "cell_type": "code",
      "execution_count": 4,
      "metadata": {
        "colab": {
          "base_uri": "https://localhost:8080/"
        },
        "id": "Ukcm2pUOLUYK",
        "outputId": "584c7ef8-8c0e-4157-bbc3-a2c48d6742d1"
      },
      "outputs": [
        {
          "name": "stdout",
          "output_type": "stream",
          "text": [
            "Mounted at /content/drive\n"
          ]
        }
      ],
      "source": [
        "from google.colab import drive\n",
        "drive.mount('/content/drive')"
      ]
    },
    {
      "cell_type": "markdown",
      "metadata": {
        "id": "qWFQdp9xq1wG"
      },
      "source": [
        "# <font color='pink'>LOAD THE FILES (here change the name of the file)</font>\n",
        "###TRAIN_SET AND VALIDATION_SET"
      ]
    },
    {
      "cell_type": "code",
      "execution_count": 280,
      "metadata": {
        "colab": {
          "base_uri": "https://localhost:8080/"
        },
        "id": "EcpikIV9_TmY",
        "outputId": "7ff53af4-a68a-4033-ddc6-d9110920a61a"
      },
      "outputs": [
        {
          "name": "stdout",
          "output_type": "stream",
          "text": [
            "/content/drive/MyDrive\n"
          ]
        }
      ],
      "source": [
        "cd drive/MyDrive"
      ]
    },
    {
      "cell_type": "code",
      "execution_count": 281,
      "metadata": {
        "colab": {
          "base_uri": "https://localhost:8080/",
          "height": 35
        },
        "id": "mVJzw5t1ESSq",
        "outputId": "b7b8d384-3094-42f9-8142-3c3cae8686d8"
      },
      "outputs": [
        {
          "data": {
            "application/vnd.google.colaboratory.intrinsic+json": {
              "type": "string"
            },
            "text/plain": [
              "'/content/drive/MyDrive'"
            ]
          },
          "execution_count": 281,
          "metadata": {},
          "output_type": "execute_result"
        }
      ],
      "source": [
        "import os\n",
        "path = os.getcwd()\n",
        "path"
      ]
    },
    {
      "cell_type": "code",
      "execution_count": 282,
      "metadata": {
        "id": "k6botjQeZxYY"
      },
      "outputs": [],
      "source": [
        "#should be in the same directory with the colab notebook\n",
        "file_to_be_loaded = \"vaccine_train_set.csv\"\n",
        "file_to_be_tested = \"vaccine_validation_set.csv\"     #replace with the test_set.csv"
      ]
    },
    {
      "cell_type": "code",
      "execution_count": 283,
      "metadata": {
        "id": "2LjsDEtRYJCH"
      },
      "outputs": [],
      "source": [
        "training_df = pd.read_csv(file_to_be_loaded)\n",
        "validation_df = pd.read_csv(file_to_be_tested)\n",
        "training_df['cleaned tweet'] = training_df['tweet']\n",
        "validation_df['cleaned tweet'] = validation_df['tweet']"
      ]
    },
    {
      "cell_type": "code",
      "execution_count": 284,
      "metadata": {
        "id": "MqRkiBYjBvG8"
      },
      "outputs": [],
      "source": [
        "import os\n",
        "path = os.getcwd()\n",
        "os.chdir('/content')\n",
        "path = os.getcwd()\n"
      ]
    },
    {
      "cell_type": "code",
      "execution_count": 285,
      "metadata": {
        "colab": {
          "base_uri": "https://localhost:8080/",
          "height": 35
        },
        "id": "arL9YWxKI8dG",
        "outputId": "35215d50-8459-4ae6-c26c-5ac9a79b4276"
      },
      "outputs": [
        {
          "data": {
            "application/vnd.google.colaboratory.intrinsic+json": {
              "type": "string"
            },
            "text/plain": [
              "'/content'"
            ]
          },
          "execution_count": 285,
          "metadata": {},
          "output_type": "execute_result"
        }
      ],
      "source": [
        "path"
      ]
    },
    {
      "cell_type": "markdown",
      "metadata": {
        "id": "R4o5VOX_rbnq"
      },
      "source": [
        "# <font color='pink'>PRE-PROCESS THE DATA</font>"
      ]
    },
    {
      "cell_type": "code",
      "execution_count": 286,
      "metadata": {
        "id": "1l8Cl7ZDL7Jt"
      },
      "outputs": [],
      "source": [
        "def clean(df):\n",
        "  to_be_removed = ['@', '@ ', 'http', '#']\n",
        "  stop_words = stopwords.words('english') \n",
        "  tokenizer = nltk.RegexpTokenizer(r\"\\w+\")\n",
        "\n",
        "  for row in range(len(df)):\n",
        "    words_to_be_removed = set()\n",
        "    r = df['cleaned tweet'].values[row].split('\\n')\n",
        "    r = ' '.join(r)\n",
        "    r = r.split(',')\n",
        "    r = ' '.join(r)\n",
        "    r = r.split('.')\n",
        "    r = ' '.join(r)\n",
        "    r = r.split()\n",
        "    r = [w.lower() for w in r]\n",
        "    for word in r:\n",
        "      word = word.lower()\n",
        "      for item in to_be_removed:   #word has @, http\n",
        "        if item in word:\n",
        "          words_to_be_removed.add(word)\n",
        "          break\n",
        "      for w in stop_words:  #word is and, a, an, the etc\n",
        "        if w == word:\n",
        "          words_to_be_removed.add(word)\n",
        "          break\n",
        "    for word in list(words_to_be_removed):  #remove them from the data\n",
        "      r = list(filter(lambda x: x != word, r)) \n",
        "    df.iloc[row, 3] = ' '.join(r)\n",
        "\n",
        "    words_to_be_removed = set()\n",
        "    r = tokenizer.tokenize(df.iloc[row, 1])   #remove all tokens\n",
        "    df.iloc[row, 1] = ' '.join(r)\n",
        "    r = df.iloc[row, 1].split()\n",
        "    for word in r: \n",
        "      if word.isdigit():   #remove the numbers\n",
        "        words_to_be_removed.add(word)\n",
        "    for word in list(words_to_be_removed):\n",
        "      r = list(filter(lambda x: x != word, r))\n",
        "    df.iloc[row, 3] = ' '.join(r)\n",
        "    if len(df.iloc[row, 3]) == 0:\n",
        "      df.iloc[row, 3] = 'Fill in the empty sentence'\n",
        "    \n",
        "  return df"
      ]
    },
    {
      "cell_type": "code",
      "execution_count": 287,
      "metadata": {
        "id": "OznjERK_L9QT"
      },
      "outputs": [],
      "source": [
        "def Preprocess_Data(data_set, cleaning=clean):\n",
        "\n",
        "  if cleaning:\n",
        "    data_set = clean(data_set)\n",
        "  df = pd.DataFrame(data_set['cleaned tweet']).to_records()\n",
        "  df = [word_tokenize(tweet[1]) for tweet in df]\n",
        "  data_set = df\n",
        "  return data_set\n"
      ]
    },
    {
      "cell_type": "code",
      "execution_count": 288,
      "metadata": {
        "id": "PHhlFtjQllIU"
      },
      "outputs": [],
      "source": [
        "validation_set= Preprocess_Data(validation_df)\n",
        "training_set = Preprocess_Data(training_df)\n"
      ]
    },
    {
      "cell_type": "markdown",
      "metadata": {
        "id": "3XSIRINCxfPB"
      },
      "source": [
        "# <font color='pink'>GLOVE WORD EMBEDDINGS</font>"
      ]
    },
    {
      "cell_type": "code",
      "execution_count": 289,
      "metadata": {
        "id": "Da92SGZZXNOA"
      },
      "outputs": [],
      "source": [
        "file1 = 'glove.6B.50d.txt'\n",
        "file2 = 'glove.6B.100d.txt'\n",
        "file3 = 'glove.6B.200d.txt'    #we use this file\n",
        "file4 = 'glove.6B.300d.txt'"
      ]
    },
    {
      "cell_type": "code",
      "execution_count": 290,
      "metadata": {
        "id": "e5-IPDz1GHjT"
      },
      "outputs": [],
      "source": [
        "def ConvertToTensor(LList, size):\n",
        "  class_list = []\n",
        "  for val in LList:\n",
        "    val = val.tolist()\n",
        "    class_list.append(val)\n",
        "  classes_list = []\n",
        "  for elem in class_list:\n",
        "      for num in elem:\n",
        "        classes_list.append(num)\n",
        "  classes_tensor = torch.tensor(classes_list)\n",
        "  classes_tensor = classes_tensor.view(size) \n",
        "  return classes_tensor\n"
      ]
    },
    {
      "cell_type": "code",
      "execution_count": 291,
      "metadata": {
        "id": "lw_JvFs9zwqV"
      },
      "outputs": [],
      "source": [
        "def Create_vocab_dictionary(training_data):\n",
        "  vocab_dict = {\"<PAD>\": 0, \"<SOS>\": 1, \"<EOS>\": 2, \"unknown_words\": 3}\n",
        "  for sentence in training_data:\n",
        "    # sentence = sentence.split()\n",
        "    for word in sentence:\n",
        "      if word not in vocab_dict.keys():\n",
        "        vocab_dict[word] = len(vocab_dict)\n",
        "  return vocab_dict"
      ]
    },
    {
      "cell_type": "code",
      "execution_count": 292,
      "metadata": {
        "id": "HO8ao8Wp1UR2"
      },
      "outputs": [],
      "source": [
        "def Create_embedding_dictionary(file):\n",
        "  embedding_dict = {}\n",
        "  with open(file, encoding='utf-8') as f:\n",
        "    for line in f:\n",
        "      # For each line file, the words are split and stored in a list\n",
        "      values = line.split()\n",
        "      word = values[0]\n",
        "      vector_coef = np.asarray(values[1:], dtype='float32')\n",
        "      embedding_dict[word] = vector_coef\n",
        "\n",
        "  return embedding_dict"
      ]
    },
    {
      "cell_type": "code",
      "execution_count": 293,
      "metadata": {
        "id": "qPWa_X_Y3lnn"
      },
      "outputs": [],
      "source": [
        "def Map_vocab_with_pretrained(vocab_dict, embed_dict):\n",
        "  values = embed_dict.values()\n",
        "  value_iterator = iter(values)\n",
        "  first_value = next(value_iterator)\n",
        "  # creating an matrix with zeroes of shape vocab x embedding dimension\n",
        "  embedding_matrix = np.random.rand(len(vocab_dict), len(first_value))\n",
        "  # Iterate through word, index in the dictionary\n",
        "  for word, i in vocab_dict.items():\n",
        "      # extract the corresponding vector for the vocab indice of same word\n",
        "      embedding_vector = embed_dict.get(word)\n",
        "      if embedding_vector is not None:\n",
        "          # Storing it in a matrix\n",
        "          embedding_matrix[i] = embedding_vector\n",
        "  embedding_matrix = torch.from_numpy(embedding_matrix)\n",
        "  \n",
        "  return embedding_matrix"
      ]
    },
    {
      "cell_type": "code",
      "execution_count": 294,
      "metadata": {
        "id": "-2ouK1f2Pegn"
      },
      "outputs": [],
      "source": [
        "def Create_index2word(data_set):\n",
        "  index2word = [\"<PAD>\", \"<SOS>\", \"<EOS>\", \"unknown_words\"]\n",
        "  for tweet in data_set:\n",
        "      for token in tweet:\n",
        "          if token not in index2word:\n",
        "              index2word.append(token)\n",
        "  return index2word"
      ]
    },
    {
      "cell_type": "code",
      "execution_count": 295,
      "metadata": {
        "id": "4JIAXVSrSVW9"
      },
      "outputs": [],
      "source": [
        "def Create_word2index(index2word):\n",
        "  word2index = {}\n",
        "  for index, word in enumerate(index2word):\n",
        "    word2index[word] = index\n",
        "  return word2index"
      ]
    },
    {
      "cell_type": "code",
      "execution_count": 296,
      "metadata": {
        "id": "H3Gj_-p-pMDc"
      },
      "outputs": [],
      "source": [
        "def Truncate_sentences(sentences, max_length):\n",
        "\n",
        "  new_sentences = []\n",
        "  for sent in sentences:\n",
        "    if len(sent) > max_length:\n",
        "      new_sentences.append(sent[:max_length])\n",
        "    else:\n",
        "      new_sentences.append(sent)\n",
        "\n",
        "  return new_sentences"
      ]
    },
    {
      "cell_type": "code",
      "execution_count": 297,
      "metadata": {
        "id": "PP8BwerdMR0_"
      },
      "outputs": [],
      "source": [
        "def Encode_sentences(sentences, word2index_dict):\n",
        "\n",
        "  j=0\n",
        "  encoded_sentences = []\n",
        "  for sentence in sentences:\n",
        "    encoded_sentence = []\n",
        "    for i in range(len(sentence)):\n",
        "      word = sentence[i]\n",
        "      if word in word2index_dict.keys():\n",
        "        encoded_sentence.append(word2index_dict[word])\n",
        "      else:\n",
        "        encoded_sentence.append(word2index_dict['unknown_words'])\n",
        "    encoded_sentence = torch.tensor(encoded_sentence)\n",
        "    encoded_sentences.append(encoded_sentence)\n",
        "    j+=1\n",
        "  print(j)\n",
        "  return encoded_sentences\n",
        "\n"
      ]
    },
    {
      "cell_type": "code",
      "execution_count": 298,
      "metadata": {
        "colab": {
          "base_uri": "https://localhost:8080/"
        },
        "id": "QL3X6o4K0ME2",
        "outputId": "9d3a17c4-a607-45cf-d284-dafba897eec9"
      },
      "outputs": [
        {
          "name": "stdout",
          "output_type": "stream",
          "text": [
            "37902\n",
            "400000\n"
          ]
        }
      ],
      "source": [
        "vocab_dict = Create_vocab_dictionary(training_set)   #vocabulary from the training set\n",
        "print(len(vocab_dict))\n",
        "embedding_dict = Create_embedding_dictionary(file3)  #dictionary with pre-trained embeddings\n",
        "print(len(embedding_dict))"
      ]
    },
    {
      "cell_type": "code",
      "execution_count": 299,
      "metadata": {
        "colab": {
          "base_uri": "https://localhost:8080/"
        },
        "id": "tbgZkaN-5xKS",
        "outputId": "471e75e2-2100-4a74-b6c6-ca2a52df0ce6"
      },
      "outputs": [
        {
          "data": {
            "text/plain": [
              "tensor([0.1960, 0.0387, 0.6159, 0.5646, 0.1082, 0.7416, 0.1835, 0.3486, 0.4805,\n",
              "        0.6439, 0.6216, 0.7612, 0.2867, 0.4924, 0.6819, 0.5100, 0.7682, 0.2999,\n",
              "        0.5469, 0.2446, 0.4436, 0.8100, 0.1039, 0.2300, 0.7918, 0.5665, 0.8274,\n",
              "        0.9749, 0.9652, 0.9497, 0.5518, 0.0925, 0.7404, 0.5643, 0.7459, 0.4554,\n",
              "        0.1557, 0.9960, 0.8897, 0.8037, 0.4115, 0.2132, 0.2944, 0.6229, 0.2482,\n",
              "        0.7997, 0.0189, 0.4804, 0.7340, 0.6836, 0.4213, 0.6932, 0.3672, 0.2324,\n",
              "        0.7851, 0.7267, 0.7065, 0.0317, 0.2394, 0.3711, 0.5819, 0.0880, 0.2321,\n",
              "        0.8125, 0.7527, 0.8048, 0.2944, 0.7806, 0.2248, 0.2898, 0.8490, 0.7442,\n",
              "        0.3323, 0.5673, 0.6996, 0.0919, 0.0538, 0.8628, 0.6300, 0.8697, 0.0877,\n",
              "        0.8659, 0.0412, 0.9582, 0.2274, 0.7519, 0.4007, 0.4031, 0.2533, 0.5068,\n",
              "        0.1846, 0.0571, 0.3669, 0.7198, 0.4742, 0.9226, 0.1701, 0.7184, 0.8698,\n",
              "        0.1293, 0.9741, 0.7542, 0.9167, 0.0377, 0.2858, 0.8229, 0.2747, 0.0517,\n",
              "        0.1479, 0.0165, 0.7824, 0.3491, 0.7497, 0.0550, 0.0782, 0.7893, 0.3704,\n",
              "        0.1110, 0.4052, 0.6513, 0.4363, 0.2025, 0.4439, 0.7421, 0.0960, 0.5117,\n",
              "        0.8436, 0.9935, 0.6308, 0.2855, 0.1260, 0.0134, 0.3382, 0.4843, 0.5462,\n",
              "        0.0360, 0.0612, 0.0232, 0.5074, 0.2666, 0.4453, 0.9736, 0.7978, 0.2841,\n",
              "        0.5558, 0.1976, 0.7906, 0.0876, 0.8379, 0.2413, 0.4343, 0.4279, 0.1021,\n",
              "        0.9088, 0.1490, 0.9076, 0.0105, 0.1735, 0.8391, 0.3103, 0.8490, 0.9113,\n",
              "        0.8999, 0.8672, 0.8378, 0.2536, 0.8430, 0.6176, 0.9842, 0.6105, 0.6517,\n",
              "        0.6545, 0.5523, 0.1857, 0.9810, 0.0959, 0.7483, 0.5246, 0.2908, 0.2282,\n",
              "        0.5037, 0.9320, 0.5741, 0.9897, 0.4298, 0.4164, 0.6279, 0.9074, 0.0694,\n",
              "        0.5504, 0.1546, 0.7186, 0.1354, 0.0045, 0.5375, 0.0166, 0.5355, 0.0457,\n",
              "        0.1540, 0.8430], dtype=torch.float64)"
            ]
          },
          "execution_count": 299,
          "metadata": {},
          "output_type": "execute_result"
        }
      ],
      "source": [
        "embedding_weights = Map_vocab_with_pretrained(vocab_dict, embedding_dict)\n",
        "embedding_weights[6]"
      ]
    },
    {
      "cell_type": "code",
      "execution_count": 300,
      "metadata": {
        "id": "24KOEIBCQiMn"
      },
      "outputs": [],
      "source": [
        "# create a list with all the words in tweets\n",
        "index_to_word = Create_index2word(training_set)\n",
        "#Replace each word with its position index in the above list\n",
        "word_to_index = Create_word2index(index_to_word)\n"
      ]
    },
    {
      "cell_type": "code",
      "execution_count": 301,
      "metadata": {
        "colab": {
          "base_uri": "https://localhost:8080/"
        },
        "id": "4MAqn9PuOjJt",
        "outputId": "d78b5d05-c2ce-46a2-c722-0cc1dab21a5c"
      },
      "outputs": [
        {
          "name": "stdout",
          "output_type": "stream",
          "text": [
            "15976\n",
            "2282\n"
          ]
        }
      ],
      "source": [
        "train_encoded_sentences = Encode_sentences(training_set, word_to_index)\n",
        "valid_encoded_sentences = Encode_sentences(validation_set, word_to_index)"
      ]
    },
    {
      "cell_type": "markdown",
      "metadata": {
        "id": "dgYqNvaEWrha"
      },
      "source": [
        "# <font color='cyan'>Functions for METRICS</font>"
      ]
    },
    {
      "cell_type": "code",
      "execution_count": 302,
      "metadata": {
        "id": "q07jgVX4ImFv"
      },
      "outputs": [],
      "source": [
        "def Learning_Curve(n_epochs, train_loss, valid_loss):  #create the learning curve\n",
        "  plt.plot(n_epochs, train_loss, 'm')\n",
        "  plt.plot(n_epochs, valid_loss, 'c')\n",
        "  plt.title(\"Learning Curve\")\n",
        "  plt.xlabel(\"Epochs\")\n",
        "  plt.ylabel(\"Loss\")\n",
        "  plt.legend([\"training\", \"validation\"], loc =\"upper right\")\n",
        "  plt.show()\n",
        "  return"
      ]
    },
    {
      "cell_type": "code",
      "execution_count": 303,
      "metadata": {
        "id": "9LYrQiHudB8j"
      },
      "outputs": [],
      "source": [
        "def ROC_Curve(y_true, y_pred):\n",
        "  fp = {}\n",
        "  tp = {}\n",
        "  thresh ={}\n",
        "\n",
        "  classes = 3\n",
        "\n",
        "  for i in range(classes):    \n",
        "      fp[i], tp[i], thresh[i] = roc_curve(y_true.detach().numpy(), y_pred[:,i].detach().numpy(), pos_label=i)\n",
        "  # plotting    \n",
        "  plt.plot(fp[0], tp[0], color='m', label='Class 0 vs Rest')\n",
        "  plt.plot(fp[1], tp[1], color='c', label='Class 1 vs Rest')\n",
        "  plt.plot(fp[2], tp[2], color='b', label='Class 2 vs Rest')\n",
        "  plt.title('ROC curve')\n",
        "  plt.xlabel('False Positive Rate')\n",
        "  plt.ylabel('True Positive Rate')\n",
        "  plt.legend(loc='lower right')\n",
        "  plt.show()\n",
        "  return"
      ]
    },
    {
      "cell_type": "code",
      "execution_count": 304,
      "metadata": {
        "id": "eo1SbUfhA1nu"
      },
      "outputs": [],
      "source": [
        "def calculate_metrics(y_true, y_pred, y_pred_class):\n",
        "\n",
        "  y_true1 = y_true.view(y_true.shape[0])\n",
        "  y_valid_class = y_true1.tolist()\n",
        "  classes = ['class 0', 'class 1', 'class 2']\n",
        "  print(classification_report(y_valid_class, y_pred_class, target_names=classes, zero_division = 0))\n",
        "  print(\"Precision score:\\t\", precision_score(y_true,y_pred.argmax(1), average = 'macro'))\n",
        "  print(\"Recall score:\\t\\t\", recall_score(y_true,y_pred.argmax(1), average = 'macro'))\n",
        "  print(\"F1 score:\\t\\t\", f1_score(y_true,y_pred.argmax(1), average = 'macro'))\n",
        "  return"
      ]
    },
    {
      "cell_type": "markdown",
      "metadata": {
        "id": "tgXnCTmYBRct"
      },
      "source": [
        "# <font color='greenyellow'>Create a Recurrent Neural Network - RNN</font>\n"
      ]
    },
    {
      "cell_type": "code",
      "execution_count": 305,
      "metadata": {
        "id": "GQryHvl0hhIV"
      },
      "outputs": [],
      "source": [
        "class RNN(nn.Module):\n",
        "    \n",
        "    def __init__(self, input_size, num_hidden, num_classes, embedding_weights, embedding_dimension,\n",
        "                 num_stacked_layers = 1, cell_type='LSTM', dropout_prob = 0.2, skip_connections = False):\n",
        "        super(RNN, self).__init__()\n",
        "        if num_classes is not None:\n",
        "          self.cell_type = cell_type\n",
        "          self.num_stacked_layers = num_stacked_layers\n",
        "          self.num_hidden = num_hidden\n",
        "          self.vocab_size = input_size\n",
        "          self.dropout_prob = dropout_prob\n",
        "          self.out_layer = nn.Linear(num_hidden*2, num_classes)\n",
        "          self.embedding = nn.Embedding(input_size, embedding_dimension, padding_idx = 0)\n",
        "        if skip_connections is True:\n",
        "          self.skip_connections = True\n",
        "        else:\n",
        "          self.skip_connections = False\n",
        "\n",
        "        if (embedding_weights is not None):\n",
        "          self.embedding = self.embedding.from_pretrained(embedding_weights, freeze= True, padding_idx=0)\n",
        "\n",
        "        if dropout_prob > 0.0:\n",
        "          self.dropout = nn.Dropout(self.dropout_prob)\n",
        "        if (cell_type == 'LSTM'):   \n",
        "          self.rnn = nn.LSTM(embedding_dimension, num_hidden, num_stacked_layers, batch_first = True, bidirectional=True)  # (200 64 2)\n",
        "        elif (cell_type == 'GRU'):\n",
        "          self.rnn = nn.GRU(embedding_dimension, num_hidden, num_stacked_layers, batch_first = True, bidirectional=True)  # (200 64 2)\n",
        "\n",
        "\n",
        "\n",
        "  \n",
        "    def forward(self, sentence_sequence, hidden):\n",
        "      embedded_sequence = self.embedding(sentence_sequence)\n",
        "      # Dropout Layer\n",
        "      if self.dropout_prob > 0.0: \n",
        "        embedded_sequence = self.dropout(embedded_sequence)\n",
        "\n",
        "      if (self.cell_type == 'LSTM'):\n",
        "        h0 = hidden[0]\n",
        "        c0 = hidden[1]\n",
        "        output, h = self.rnn(embedded_sequence.float(), hidden)   #input = 2*self.num_layers, batchsize, self.num_hidden, h0\n",
        "      elif (self.cell_type == 'GRU'):\n",
        "        h0 = hidden\n",
        "        output, h = self.rnn(embedded_sequence.float(), h0)   #input = 2*self.num_layers, batchsize, self.num_hidden, h0\n",
        "        \n",
        "      # output -> (batch, seqlen, hidden size)\n",
        "      # we want (batch, hidden size)\n",
        "      output_padded = output\n",
        "      output_padded = output_padded[:, -1, :]\n",
        "      #output_padded -> (batch, hidden size)\n",
        "      output_padded = self.out_layer(output_padded)\n",
        "      output = output_padded\n",
        "      return output, h\n",
        "\n",
        "\n",
        "\n",
        "    #Initialize hidden (and cell state if cell_type is LSTM)\n",
        "    def init_hidden(self, batch_size):\n",
        "      if (self.cell_type == 'LSTM'):\n",
        "        h0 = torch.zeros(2*self.num_stacked_layers, batch_size, self.num_hidden)\n",
        "        c0 = torch.zeros(2*self.num_stacked_layers, batch_size, self.num_hidden)\n",
        "        hidden = (h0, c0)\n",
        "      elif (self.cell_type == 'GRU'):\n",
        "        h0 = torch.zeros(2*self.num_stacked_layers, batch_size, self.num_hidden)\n",
        "        hidden = h0\n",
        "      return hidden\n",
        "\n"
      ]
    },
    {
      "cell_type": "code",
      "execution_count": 306,
      "metadata": {
        "id": "vAuUluy6fyHU"
      },
      "outputs": [],
      "source": [
        "#Truncate the sentences to maximum 25 words\n",
        "train_cut_encoded_sentences = Truncate_sentences(train_encoded_sentences, 25)\n",
        "valid_cut_encoded_sentences = Truncate_sentences(valid_encoded_sentences, 25)\n",
        "train_seq = train_cut_encoded_sentences  #list of tensors with diff dimensions\n",
        "valid_seq = valid_cut_encoded_sentences\n",
        "\n",
        "def InitializeDataloader(x_data, y_data, batch_size):\n",
        "  \n",
        "  #Separate features and targets and save in tensors\n",
        "  sequence = x_data\n",
        "  target = y_data\n",
        "  #Pad the sequence\n",
        "  padded_sentences = torch.nn.utils.rnn.pad_sequence(sequence, batch_first=True, padding_value=0)\n",
        "  sentences_lengths = torch.LongTensor(list(map(len,sequence)))\n",
        "  x = padded_sentences\n",
        "  y_df = pd.DataFrame(target)\n",
        "  y = torch.tensor(y_df.values)\n",
        "\n",
        "  #Initialize dataloader\n",
        "  dataset = torch.utils.data.TensorDataset(x, y)\n",
        "  dataloader = DataLoader(dataset, batch_size=batch_size, shuffle=False)\n",
        "\n",
        "  return dataloader, sentences_lengths"
      ]
    },
    {
      "cell_type": "markdown",
      "metadata": {
        "id": "mux3sVDVEkHa"
      },
      "source": [
        "# <font color='orange'>TRAINING EVALUATION </font>"
      ]
    },
    {
      "cell_type": "code",
      "execution_count": 307,
      "metadata": {
        "id": "CHz3bR12uMPT"
      },
      "outputs": [],
      "source": [
        "def train(model, dataloader, batch_size, loss_func, optimizer):    #otan kalestei ->target auto training_df['label']\n",
        "  \n",
        "  model.train()\n",
        "  batch_losses = []\n",
        "  i = 0\n",
        "  hidden = model.init_hidden(batch_size)\n",
        "  for x_train_batch, y_train_batch in dataloader:\n",
        "\n",
        "    if model.cell_type == 'LSTM':\n",
        "      hidden = tuple([each.data for each in hidden])\n",
        "    elif model.cell_type == 'GRU':\n",
        "      hidden.detach_()\n",
        "      hidden = hidden.detach()\n",
        "    #Delete previously stored gradients\n",
        "    optimizer.zero_grad()\n",
        "    with torch.set_grad_enabled(True):\n",
        "      if (model.cell_type == 'LSTM'):\n",
        "        h0 = hidden[0]\n",
        "        c0 = hidden[1]\n",
        "      elif (model.cell_type == 'GRU'):\n",
        "        h0 = hidden\n",
        "      if( h0.size(dim=1) != x_train_batch.size(dim=0)):\n",
        "        hidden = model.init_hidden(x_train_batch.size(dim=0))\n",
        "\n",
        "      y_train_pred, hidden = model(x_train_batch, hidden)\n",
        "      train_prob = nn.Softmax(dim=1)(y_train_pred)\n",
        "      y_train_pred_class = torch.argmax(train_prob, dim=1)\n",
        "      \n",
        "      #calculate loss\n",
        "      loss = loss_func(y_train_pred, y_train_batch.squeeze())\n",
        "      batch_losses.append(loss.item())\n",
        "      #Perform backpropagation starting from the loss calculated in this epoch\n",
        "      loss.backward()\n",
        "      #Gradient clip\n",
        "      torch.nn.utils.clip_grad_norm_(model.parameters(), max_norm=1.0)\n",
        "      #Update model's weights based on the gradients calculated during backprop\n",
        "      optimizer.step()\n",
        "      i+=1\n",
        "\n",
        "  epoch_loss = sum(batch_losses) / len(dataloader)\n",
        "  return epoch_loss\n",
        "\n",
        "\n",
        "\n",
        "\n",
        "def evaluate(model, dataloader, batch_size, loss_func):\n",
        "    \n",
        "    y_valid_pred_class = []\n",
        "    y_valid_predictions = []\n",
        "    model.eval()\n",
        "    batch_losses = []\n",
        "    i = 0\n",
        "    hidden = model.init_hidden(batch_size)\n",
        "\n",
        "    for x_valid_batch, y_valid_batch in dataloader:\n",
        "      with torch.no_grad():\n",
        "        if(hidden[0].size(dim=1) != x_valid_batch.size(dim=0)):\n",
        "          hidden = model.init_hidden(x_valid_batch.size(dim=0))\n",
        "        #evaluate\n",
        "        y_valid_pred, hidden = model(x_valid_batch, hidden)\n",
        "        valid_prob = nn.Softmax(dim=1)(y_valid_pred)\n",
        "        #get predicted class\n",
        "        pred_class = torch.argmax(valid_prob, dim=1)\n",
        "        y_valid_pred_class.append(pred_class)\n",
        "        y_valid_predictions.append(y_valid_pred)\n",
        "        #calculate loss\n",
        "        loss = loss_func(y_valid_pred, y_valid_batch.squeeze())\n",
        "        batch_losses.append(loss.item())\n",
        "        i+=1\n",
        "    \n",
        "    epoch_loss = sum(batch_losses) / len(dataloader)\n",
        "    return epoch_loss, y_valid_pred_class, y_valid_predictions"
      ]
    },
    {
      "cell_type": "code",
      "execution_count": 308,
      "metadata": {
        "id": "J8hrbb_NbITc"
      },
      "outputs": [],
      "source": [
        "def Train_Evaluate_TheModel(model, epochs, batch_size, loss_function, optimizer, training_seq, training_target, valid_seq, valid_target):\n",
        "  \n",
        "  train_epoch_losses = []\n",
        "  valid_epoch_losses = []\n",
        "  train_dataloader, train_seq_lens = InitializeDataloader(training_seq, training_target, batch_size)  #Training set\n",
        "  valid_dataloader, valid_seq_lens = InitializeDataloader(valid_seq, valid_target, batch_size)        #Validation set\n",
        "  \n",
        "  for epoch in range(epochs):\n",
        "    train_loss = train(model, train_dataloader, batch_size, loss_function, optimizer)\n",
        "    eval_loss, y_valid_pred_class, y_valid_predictions = evaluate(model, valid_dataloader, batch_size, loss_function)\n",
        "    \n",
        "    train_epoch_losses.append(train_loss)\n",
        "    valid_epoch_losses.append(eval_loss)\n",
        "\n",
        "    print(f\"Epoch {epoch:3}: Training Loss = {train_loss:.5f}\")\n",
        "    print(f\"Epoch {epoch:3}: Validation Loss = {eval_loss:.5f}\")\n",
        "\n",
        "\n",
        "  return train_epoch_losses, valid_epoch_losses, y_valid_pred_class, y_valid_predictions"
      ]
    },
    {
      "cell_type": "markdown",
      "metadata": {
        "id": "1CtHPCkMGaf_"
      },
      "source": [
        "# <b><font color='red'>BEST MODELS</font></b>"
      ]
    },
    {
      "cell_type": "markdown",
      "metadata": {
        "id": "uLDTr7QdQQaq"
      },
      "source": [
        "## <font color='magenta'>RUN THE LSTM MODEL</font>"
      ]
    },
    {
      "cell_type": "code",
      "execution_count": null,
      "metadata": {
        "colab": {
          "base_uri": "https://localhost:8080/"
        },
        "id": "eFWIr-_nQQar",
        "outputId": "bde76107-623c-401d-e6d7-b1b328839eb9"
      },
      "outputs": [
        {
          "name": "stdout",
          "output_type": "stream",
          "text": [
            "Epoch   0: Training Loss = 0.92521\n",
            "Epoch   0: Validation Loss = 0.85532\n",
            "Epoch   1: Training Loss = 0.84390\n",
            "Epoch   1: Validation Loss = 0.81904\n",
            "Epoch   2: Training Loss = 0.81082\n",
            "Epoch   2: Validation Loss = 0.79580\n",
            "Epoch   3: Training Loss = 0.78805\n",
            "Epoch   3: Validation Loss = 0.77739\n",
            "Epoch   4: Training Loss = 0.77005\n",
            "Epoch   4: Validation Loss = 0.76673\n",
            "Epoch   5: Training Loss = 0.75200\n",
            "Epoch   5: Validation Loss = 0.74789\n",
            "Epoch   6: Training Loss = 0.73917\n",
            "Epoch   6: Validation Loss = 0.73910\n",
            "Epoch   7: Training Loss = 0.72415\n",
            "Epoch   7: Validation Loss = 0.73718\n",
            "Epoch   8: Training Loss = 0.70670\n",
            "Epoch   8: Validation Loss = 0.73040\n",
            "Epoch   9: Training Loss = 0.69465\n",
            "Epoch   9: Validation Loss = 0.73277\n"
          ]
        }
      ],
      "source": [
        "num_hidden = 64  #bigger overfits \n",
        "num_classes = 3\n",
        "learning_rate = 0.0005\n",
        "num_stacked_layers = 3 #maybe increase\n",
        "input_size = embedding_weights.shape[0]    #size of the vocab of the trainign set\n",
        "embedding_dimension = embedding_weights.shape[1]\n",
        "\n",
        "# 32437, 200, 3, [32437, 200], 200, 2\n",
        "lstm_model = RNN(input_size, num_hidden, num_classes, embedding_weights, embedding_dimension, num_stacked_layers)\n",
        "loss_function = nn.CrossEntropyLoss()\n",
        "lstm_optimizer = optim.Adam(lstm_model.parameters(), lr=0.0004, weight_decay=1e-4)\n",
        "\n",
        "#TRAIN AND EVALUATE THE MODEL\n",
        "train_epoch_losses, valid_epoch_losses, y_valid_pred_class, y_valid_predictions = Train_Evaluate_TheModel(lstm_model, 10, 32, \n",
        "                                                                                                          loss_function, lstm_optimizer,\n",
        "                                                                                                          train_seq, training_df['label'],\n",
        "                                                                                                          valid_seq, validation_df['label'])"
      ]
    },
    {
      "cell_type": "code",
      "execution_count": null,
      "metadata": {
        "colab": {
          "base_uri": "https://localhost:8080/",
          "height": 295
        },
        "id": "LECTd7EPQQat",
        "outputId": "29504bca-0aac-4f3c-fe85-7c00fb0f515b"
      },
      "outputs": [
        {
          "data": {
            "image/png": "[encoded data removed]",
            "text/plain": [
              "<Figure size 432x288 with 1 Axes>"
            ]
          },
          "metadata": {
            "needs_background": "light"
          },
          "output_type": "display_data"
        }
      ],
      "source": [
        "epochs = np.arange(0, 10).tolist()\n",
        "Learning_Curve(epochs, train_epoch_losses, valid_epoch_losses)"
      ]
    },
    {
      "cell_type": "code",
      "execution_count": null,
      "metadata": {
        "id": "rfWNCCGZQQat"
      },
      "outputs": [],
      "source": [
        "y_training_df = pd.DataFrame(training_df['label'])\n",
        "y_validation_df = pd.DataFrame(validation_df['label'])\n",
        "y_train = torch.tensor(y_training_df.values)\n",
        "y_valid = torch.tensor(y_validation_df.values)\n",
        "y_valid_predicted_classes = ConvertToTensor(y_valid_pred_class, y_valid.shape)\n",
        "y_valid_predictions = ConvertToTensor(y_valid_predictions, (y_valid.shape[0], num_classes))\n"
      ]
    },
    {
      "cell_type": "code",
      "execution_count": null,
      "metadata": {
        "colab": {
          "base_uri": "https://localhost:8080/"
        },
        "id": "vujADKXfQQau",
        "outputId": "25f02489-8c71-47f3-b5e7-bb07d773ab79"
      },
      "outputs": [
        {
          "name": "stdout",
          "output_type": "stream",
          "text": [
            "              precision    recall  f1-score   support\n",
            "\n",
            "     class 0       0.77      0.74      0.76      1065\n",
            "     class 1       0.46      0.28      0.35       296\n",
            "     class 2       0.64      0.74      0.69       921\n",
            "\n",
            "    accuracy                           0.68      2282\n",
            "   macro avg       0.62      0.59      0.60      2282\n",
            "weighted avg       0.68      0.68      0.68      2282\n",
            "\n",
            "Precision score:\t 0.6246287312358448\n",
            "Recall score:\t\t 0.5907138362843276\n",
            "F1 score:\t\t 0.5990088055225223\n"
          ]
        }
      ],
      "source": [
        "calculate_metrics(y_valid, y_valid_predictions, y_valid_predicted_classes)"
      ]
    },
    {
      "cell_type": "code",
      "execution_count": null,
      "metadata": {
        "colab": {
          "base_uri": "https://localhost:8080/",
          "height": 295
        },
        "id": "GlC-OEGTQQav",
        "outputId": "7a6b048a-684a-4067-9a26-14760eab78cf"
      },
      "outputs": [
        {
          "data": {
            "image/png": "[encoded data removed]",
            "text/plain": [
              "<Figure size 432x288 with 1 Axes>"
            ]
          },
          "metadata": {
            "needs_background": "light"
          },
          "output_type": "display_data"
        }
      ],
      "source": [
        "ROC_Curve(y_valid, y_valid_predictions)"
      ]
    },
    {
      "cell_type": "markdown",
      "metadata": {
        "id": "a2rWfdbgyvrh"
      },
      "source": [
        "## <font color='magenta'>RUN THE GRU MODEL (the best)</font>"
      ]
    },
    {
      "cell_type": "code",
      "execution_count": 229,
      "metadata": {
        "colab": {
          "base_uri": "https://localhost:8080/"
        },
        "id": "uAqm5n0cyvrl",
        "outputId": "28a95a0b-f368-4d0b-d575-cd71189c8185"
      },
      "outputs": [
        {
          "name": "stdout",
          "output_type": "stream",
          "text": [
            "Epoch   0: Training Loss = 0.93190\n",
            "Epoch   0: Validation Loss = 0.86015\n",
            "Epoch   1: Training Loss = 0.84142\n",
            "Epoch   1: Validation Loss = 0.81217\n",
            "Epoch   2: Training Loss = 0.80849\n",
            "Epoch   2: Validation Loss = 0.78384\n",
            "Epoch   3: Training Loss = 0.78718\n",
            "Epoch   3: Validation Loss = 0.76784\n",
            "Epoch   4: Training Loss = 0.76790\n",
            "Epoch   4: Validation Loss = 0.75653\n",
            "Epoch   5: Training Loss = 0.75317\n",
            "Epoch   5: Validation Loss = 0.74762\n",
            "Epoch   6: Training Loss = 0.73976\n",
            "Epoch   6: Validation Loss = 0.73685\n",
            "Epoch   7: Training Loss = 0.72447\n",
            "Epoch   7: Validation Loss = 0.72993\n",
            "Epoch   8: Training Loss = 0.71341\n",
            "Epoch   8: Validation Loss = 0.72118\n",
            "Epoch   9: Training Loss = 0.70131\n",
            "Epoch   9: Validation Loss = 0.71393\n"
          ]
        }
      ],
      "source": [
        "num_hidden = 64  #bigger overfits \n",
        "num_classes = 3\n",
        "learning_rate = 0.0004\n",
        "num_stacked_layers = 2 #maybe increase\n",
        "input_size = embedding_weights.shape[0]    #size of the vocab of the trainign set\n",
        "embedding_dimension = embedding_weights.shape[1]\n",
        "\n",
        "# 28.921, 100, 3, [32437, 200], 200, 2\n",
        "gru_model = RNN(input_size, num_hidden, num_classes, embedding_weights, embedding_dimension, num_stacked_layers, cell_type='GRU')\n",
        "loss_function = nn.CrossEntropyLoss()\n",
        "gru_optimizer = optim.Adam(gru_model.parameters(), lr=0.0003, weight_decay=1e-4)\n",
        "\n",
        "#TRAIN AND EVALUATE THE MODEL\n",
        "train_epoch_losses, valid_epoch_losses, y_valid_pred_class, y_valid_predictions = Train_Evaluate_TheModel(gru_model, 10, 32, \n",
        "                                                                                                          loss_function, gru_optimizer, \n",
        "                                                                                                          train_seq, training_df['label'],\n",
        "                                                                                                          valid_seq, validation_df['label'])"
      ]
    },
    {
      "cell_type": "code",
      "execution_count": 230,
      "metadata": {
        "colab": {
          "base_uri": "https://localhost:8080/",
          "height": 295
        },
        "id": "3vrE0JBRyvrm",
        "outputId": "a7444c73-0742-47b3-8cbd-f94db7bf597d"
      },
      "outputs": [
        {
          "data": {
            "image/png": "[encoded data removed]",
            "text/plain": [
              "<Figure size 432x288 with 1 Axes>"
            ]
          },
          "metadata": {
            "needs_background": "light"
          },
          "output_type": "display_data"
        }
      ],
      "source": [
        "epochs = np.arange(0, 10).tolist()\n",
        "Learning_Curve(epochs, train_epoch_losses, valid_epoch_losses)"
      ]
    },
    {
      "cell_type": "code",
      "execution_count": 231,
      "metadata": {
        "id": "lTowaYTeyvrm"
      },
      "outputs": [],
      "source": [
        "y_training_df = pd.DataFrame(training_df['label'])\n",
        "y_validation_df = pd.DataFrame(validation_df['label'])\n",
        "y_train = torch.tensor(y_training_df.values)\n",
        "y_valid = torch.tensor(y_validation_df.values)\n",
        "y_valid_predicted_classes = ConvertToTensor(y_valid_pred_class, y_valid.shape)\n",
        "y_valid_predictions = ConvertToTensor(y_valid_predictions, (y_valid.shape[0], num_classes))\n"
      ]
    },
    {
      "cell_type": "code",
      "execution_count": 232,
      "metadata": {
        "colab": {
          "base_uri": "https://localhost:8080/"
        },
        "id": "F69mtVxvyvrm",
        "outputId": "12cd2df6-8bcb-4b4e-c6ad-e9b616232eaf"
      },
      "outputs": [
        {
          "name": "stdout",
          "output_type": "stream",
          "text": [
            "              precision    recall  f1-score   support\n",
            "\n",
            "     class 0       0.75      0.77      0.76      1065\n",
            "     class 1       0.50      0.31      0.38       296\n",
            "     class 2       0.65      0.72      0.68       921\n",
            "\n",
            "    accuracy                           0.69      2282\n",
            "   macro avg       0.64      0.60      0.61      2282\n",
            "weighted avg       0.68      0.69      0.68      2282\n",
            "\n",
            "Precision score:\t 0.6360439720442632\n",
            "Recall score:\t\t 0.5994873388780807\n",
            "F1 score:\t\t 0.6098935077268514\n"
          ]
        }
      ],
      "source": [
        "calculate_metrics(y_valid, y_valid_predictions, y_valid_predicted_classes)"
      ]
    },
    {
      "cell_type": "code",
      "execution_count": 233,
      "metadata": {
        "colab": {
          "base_uri": "https://localhost:8080/",
          "height": 295
        },
        "id": "7VJx7y_iyvrm",
        "outputId": "195095d9-c936-4fbe-8945-a833c93a92a3"
      },
      "outputs": [
        {
          "data": {
            "image/png": "[encoded data removed]",
            "text/plain": [
              "<Figure size 432x288 with 1 Axes>"
            ]
          },
          "metadata": {
            "needs_background": "light"
          },
          "output_type": "display_data"
        }
      ],
      "source": [
        "ROC_Curve(y_valid, y_valid_predictions)"
      ]
    },
    {
      "cell_type": "markdown",
      "metadata": {
        "id": "8DlhORCoK-mR"
      },
      "source": [
        "# <font color='light magenta'>EXPERIMENTS</font>\n",
        "\n",
        "### <font color='white'>At each set of cells, different combinations of hyper parameters are tested and the corresponding results are presented (Learning Curves - ROC Curve - Classification Report)</font>"
      ]
    },
    {
      "cell_type": "markdown",
      "metadata": {
        "id": "cETeY3R9LIZL"
      },
      "source": [
        "## <font color='purple'>LSTM</font>"
      ]
    },
    {
      "cell_type": "markdown",
      "metadata": {
        "id": "Agi9kCf0NCCK"
      },
      "source": [
        "### <font color='purple'>1</font>"
      ]
    },
    {
      "cell_type": "code",
      "execution_count": 217,
      "metadata": {
        "id": "dzzC20JTM3In"
      },
      "outputs": [],
      "source": [
        "#Truncate the sentences to maximum 20 words\n",
        "train_cut_encoded_sentences = Truncate_sentences(train_encoded_sentences, 20)\n",
        "valid_cut_encoded_sentences = Truncate_sentences(valid_encoded_sentences, 20)\n",
        "train_seq = train_cut_encoded_sentences  #list of tensors with diff dimensions\n",
        "valid_seq = valid_cut_encoded_sentences\n",
        "\n",
        "def InitializeDataloader(x_data, y_data, batch_size):\n",
        "  \n",
        "  #Separate features and targets and save in tensors\n",
        "  sequence = x_data\n",
        "  target = y_data\n",
        "  #Pad the sequence\n",
        "  padded_sentences = torch.nn.utils.rnn.pad_sequence(sequence, batch_first=True, padding_value=0)\n",
        "  sentences_lengths = torch.LongTensor(list(map(len,sequence)))\n",
        "  x = padded_sentences\n",
        "  y_df = pd.DataFrame(target)\n",
        "  y = torch.tensor(y_df.values)\n",
        "\n",
        "  #Initialize dataloader\n",
        "  dataset = torch.utils.data.TensorDataset(x, y)\n",
        "  dataloader = DataLoader(dataset, batch_size=batch_size, shuffle=False)\n",
        "\n",
        "  return dataloader, sentences_lengths"
      ]
    },
    {
      "cell_type": "code",
      "execution_count": 218,
      "metadata": {
        "colab": {
          "base_uri": "https://localhost:8080/"
        },
        "id": "3oVdWoo6M9iR",
        "outputId": "973dc539-401a-46e3-a20f-7540378d2c3d"
      },
      "outputs": [
        {
          "name": "stdout",
          "output_type": "stream",
          "text": [
            "Epoch   0: Training Loss = 0.93774\n",
            "Epoch   0: Validation Loss = 0.88932\n",
            "Epoch   1: Training Loss = 0.85566\n",
            "Epoch   1: Validation Loss = 0.83217\n",
            "Epoch   2: Training Loss = 0.82956\n",
            "Epoch   2: Validation Loss = 0.80698\n",
            "Epoch   3: Training Loss = 0.80542\n",
            "Epoch   3: Validation Loss = 0.79022\n",
            "Epoch   4: Training Loss = 0.78822\n",
            "Epoch   4: Validation Loss = 0.77477\n",
            "Epoch   5: Training Loss = 0.77156\n",
            "Epoch   5: Validation Loss = 0.77079\n",
            "Epoch   6: Training Loss = 0.75484\n",
            "Epoch   6: Validation Loss = 0.75697\n",
            "Epoch   7: Training Loss = 0.74310\n",
            "Epoch   7: Validation Loss = 0.75593\n",
            "Epoch   8: Training Loss = 0.73124\n",
            "Epoch   8: Validation Loss = 0.75800\n",
            "Epoch   9: Training Loss = 0.71723\n",
            "Epoch   9: Validation Loss = 0.75116\n"
          ]
        }
      ],
      "source": [
        "num_hidden = 128  #bigger overfits \n",
        "num_classes = 3\n",
        "learning_rate = 0.0005\n",
        "num_stacked_layers = 4 #maybe increase\n",
        "input_size = embedding_weights.shape[0]    #size of the vocab of the trainign set\n",
        "embedding_dimension = embedding_weights.shape[1]\n",
        "\n",
        "# 28.921, 200, 3, [32437, 200], 200, 4\n",
        "lstm_model = RNN(input_size, num_hidden, num_classes, embedding_weights, embedding_dimension, num_stacked_layers)\n",
        "loss_function = nn.CrossEntropyLoss()\n",
        "lstm_optimizer = optim.Adam(lstm_model.parameters(), lr=0.0003, weight_decay=1e-4)\n",
        "\n",
        "#TRAIN AND EVALUATE THE MODEL\n",
        "train_epoch_losses, valid_epoch_losses, y_valid_pred_class, y_valid_predictions = Train_Evaluate_TheModel(lstm_model, 10, 64, \n",
        "                                                                                                          loss_function, lstm_optimizer,\n",
        "                                                                                                          train_seq, training_df['label'],\n",
        "                                                                                                          valid_seq, validation_df['label'])"
      ]
    },
    {
      "cell_type": "code",
      "execution_count": 219,
      "metadata": {
        "colab": {
          "base_uri": "https://localhost:8080/",
          "height": 295
        },
        "id": "fk2h1cPNM9iS",
        "outputId": "c3265bbf-b36b-4faf-ad65-0a5f996b2057"
      },
      "outputs": [
        {
          "data": {
            "image/png": "[encoded data removed]",
            "text/plain": [
              "<Figure size 432x288 with 1 Axes>"
            ]
          },
          "metadata": {
            "needs_background": "light"
          },
          "output_type": "display_data"
        }
      ],
      "source": [
        "epochs = np.arange(0, 10).tolist()\n",
        "Learning_Curve(epochs, train_epoch_losses, valid_epoch_losses)"
      ]
    },
    {
      "cell_type": "code",
      "execution_count": 220,
      "metadata": {
        "id": "vrnnd1PQM9iT"
      },
      "outputs": [],
      "source": [
        "y_training_df = pd.DataFrame(training_df['label'])\n",
        "y_validation_df = pd.DataFrame(validation_df['label'])\n",
        "y_train = torch.tensor(y_training_df.values)\n",
        "y_valid = torch.tensor(y_validation_df.values)\n",
        "y_valid_predicted_classes = ConvertToTensor(y_valid_pred_class, y_valid.shape)\n",
        "y_valid_predictions = ConvertToTensor(y_valid_predictions, (y_valid.shape[0], num_classes))\n"
      ]
    },
    {
      "cell_type": "code",
      "execution_count": 221,
      "metadata": {
        "colab": {
          "base_uri": "https://localhost:8080/"
        },
        "id": "cfZGdP9IM9iU",
        "outputId": "5987e22a-69cb-4077-cb85-668d4499db4a"
      },
      "outputs": [
        {
          "name": "stdout",
          "output_type": "stream",
          "text": [
            "              precision    recall  f1-score   support\n",
            "\n",
            "     class 0       0.74      0.76      0.75      1065\n",
            "     class 1       0.51      0.28      0.36       296\n",
            "     class 2       0.63      0.70      0.66       921\n",
            "\n",
            "    accuracy                           0.67      2282\n",
            "   macro avg       0.63      0.58      0.59      2282\n",
            "weighted avg       0.66      0.67      0.66      2282\n",
            "\n",
            "Precision score:\t 0.6259821183489963\n",
            "Recall score:\t\t 0.5792967934673215\n",
            "F1 score:\t\t 0.5907037316110288\n"
          ]
        }
      ],
      "source": [
        "calculate_metrics(y_valid, y_valid_predictions, y_valid_predicted_classes)"
      ]
    },
    {
      "cell_type": "code",
      "execution_count": 222,
      "metadata": {
        "colab": {
          "base_uri": "https://localhost:8080/",
          "height": 295
        },
        "id": "LE55dNzcM9iU",
        "outputId": "2a36569c-4395-40f1-8e4b-8f8870d768bb"
      },
      "outputs": [
        {
          "data": {
            "image/png": "[encoded data removed]",
            "text/plain": [
              "<Figure size 432x288 with 1 Axes>"
            ]
          },
          "metadata": {
            "needs_background": "light"
          },
          "output_type": "display_data"
        }
      ],
      "source": [
        "ROC_Curve(y_valid, y_valid_predictions)"
      ]
    },
    {
      "cell_type": "markdown",
      "metadata": {
        "id": "GgM6vyTSN9SV"
      },
      "source": [
        "### <font color='purple'>2</font>"
      ]
    },
    {
      "cell_type": "code",
      "execution_count": null,
      "metadata": {
        "id": "Z4MWkpjYUuAD"
      },
      "outputs": [],
      "source": [
        "#Truncate the sentences to maximum 15 words\n",
        "train_cut_encoded_sentences = Truncate_sentences(train_encoded_sentences, 15)\n",
        "valid_cut_encoded_sentences = Truncate_sentences(valid_encoded_sentences, 15)\n",
        "train_seq = train_cut_encoded_sentences  #list of tensors with diff dimensions\n",
        "valid_seq = valid_cut_encoded_sentences\n",
        "\n",
        "def InitializeDataloader(x_data, y_data, batch_size):\n",
        "  \n",
        "  #Separate features and targets and save in tensors\n",
        "  sequence = x_data\n",
        "  target = y_data\n",
        "  #Pad the sequence\n",
        "  padded_sentences = torch.nn.utils.rnn.pad_sequence(sequence, batch_first=True, padding_value=0)\n",
        "  sentences_lengths = torch.LongTensor(list(map(len,sequence)))\n",
        "  x = padded_sentences\n",
        "  y_df = pd.DataFrame(target)\n",
        "  y = torch.tensor(y_df.values)\n",
        "\n",
        "  #Initialize dataloader\n",
        "  dataset = torch.utils.data.TensorDataset(x, y)\n",
        "  dataloader = DataLoader(dataset, batch_size=batch_size, shuffle=False)\n",
        "\n",
        "  return dataloader, sentences_lengths"
      ]
    },
    {
      "cell_type": "code",
      "execution_count": null,
      "metadata": {
        "colab": {
          "base_uri": "https://localhost:8080/"
        },
        "id": "oIGW7-whUuAE",
        "outputId": "a70e1953-8b44-4a1a-e65e-81ab24b88744"
      },
      "outputs": [
        {
          "name": "stdout",
          "output_type": "stream",
          "text": [
            "Epoch   0: Training Loss = 0.99559\n",
            "Epoch   0: Validation Loss = 0.96013\n",
            "Epoch   1: Training Loss = 0.92889\n",
            "Epoch   1: Validation Loss = 0.92782\n",
            "Epoch   2: Training Loss = 0.90003\n",
            "Epoch   2: Validation Loss = 0.91025\n",
            "Epoch   3: Training Loss = 0.87820\n",
            "Epoch   3: Validation Loss = 0.89670\n",
            "Epoch   4: Training Loss = 0.85843\n",
            "Epoch   4: Validation Loss = 0.88715\n",
            "Epoch   5: Training Loss = 0.84042\n",
            "Epoch   5: Validation Loss = 0.88256\n",
            "Epoch   6: Training Loss = 0.82377\n",
            "Epoch   6: Validation Loss = 0.88151\n",
            "Epoch   7: Training Loss = 0.80782\n",
            "Epoch   7: Validation Loss = 0.88358\n",
            "Epoch   8: Training Loss = 0.79155\n",
            "Epoch   8: Validation Loss = 0.88933\n",
            "Epoch   9: Training Loss = 0.77464\n",
            "Epoch   9: Validation Loss = 0.89966\n"
          ]
        }
      ],
      "source": [
        "num_hidden = 80  #bigger overfits \n",
        "num_classes = 3\n",
        "learning_rate = 0.0005\n",
        "num_stacked_layers = 4 #maybe increase\n",
        "input_size = embedding_weights.shape[0]    #size of the vocab of the trainign set\n",
        "embedding_dimension = embedding_weights.shape[1]\n",
        "\n",
        "# 28.921, 200, 3, [32437, 50], 50, 4\n",
        "lstm_model = RNN(input_size, num_hidden, num_classes, embedding_weights, embedding_dimension, num_stacked_layers, dropout_prob = 0.0)\n",
        "loss_function = nn.CrossEntropyLoss()\n",
        "lstm_optimizer = optim.Adam(lstm_model.parameters(), lr=0.0003, weight_decay=1e-4)\n",
        "\n",
        "#TRAIN AND EVALUATE THE MODEL\n",
        "train_epoch_losses, valid_epoch_losses, y_valid_pred_class, y_valid_predictions = Train_Evaluate_TheModel(lstm_model, 10, 64, \n",
        "                                                                                                          loss_function, lstm_optimizer,\n",
        "                                                                                                          train_seq, training_df['label'],\n",
        "                                                                                                          valid_seq, validation_df['label'])"
      ]
    },
    {
      "cell_type": "code",
      "execution_count": null,
      "metadata": {
        "colab": {
          "base_uri": "https://localhost:8080/",
          "height": 295
        },
        "id": "wJmYlIXjUuAE",
        "outputId": "cdbcaf0f-52c2-4c3a-f041-b79c417da19a"
      },
      "outputs": [
        {
          "data": {
            "image/png": "[encoded data removed]",
            "text/plain": [
              "<Figure size 432x288 with 1 Axes>"
            ]
          },
          "metadata": {
            "needs_background": "light"
          },
          "output_type": "display_data"
        }
      ],
      "source": [
        "epochs = np.arange(0, 10).tolist()\n",
        "Learning_Curve(epochs, train_epoch_losses, valid_epoch_losses)"
      ]
    },
    {
      "cell_type": "code",
      "execution_count": null,
      "metadata": {
        "id": "a7cu6iUsUuAE"
      },
      "outputs": [],
      "source": [
        "y_training_df = pd.DataFrame(training_df['label'])\n",
        "y_validation_df = pd.DataFrame(validation_df['label'])\n",
        "y_train = torch.tensor(y_training_df.values)\n",
        "y_valid = torch.tensor(y_validation_df.values)\n",
        "y_valid_predicted_classes = ConvertToTensor(y_valid_pred_class, y_valid.shape)\n",
        "y_valid_predictions = ConvertToTensor(y_valid_predictions, (y_valid.shape[0], num_classes))\n"
      ]
    },
    {
      "cell_type": "code",
      "execution_count": null,
      "metadata": {
        "colab": {
          "base_uri": "https://localhost:8080/"
        },
        "id": "NvA03Z7JUuAF",
        "outputId": "bb1d95cd-375e-485a-fb9f-3c8f753422bd"
      },
      "outputs": [
        {
          "name": "stdout",
          "output_type": "stream",
          "text": [
            "              precision    recall  f1-score   support\n",
            "\n",
            "     class 0       0.63      0.79      0.70      1065\n",
            "     class 1       0.43      0.22      0.29       296\n",
            "     class 2       0.59      0.51      0.55       921\n",
            "\n",
            "    accuracy                           0.60      2282\n",
            "   macro avg       0.55      0.51      0.51      2282\n",
            "weighted avg       0.59      0.60      0.58      2282\n",
            "\n",
            "Precision score:\t 0.549465201843654\n",
            "Recall score:\t\t 0.5055793900061459\n",
            "F1 score:\t\t 0.5122526342274432\n"
          ]
        }
      ],
      "source": [
        "calculate_metrics(y_valid, y_valid_predictions, y_valid_predicted_classes)"
      ]
    },
    {
      "cell_type": "code",
      "execution_count": null,
      "metadata": {
        "colab": {
          "base_uri": "https://localhost:8080/",
          "height": 295
        },
        "id": "C_4jJTogUuAF",
        "outputId": "79e28338-4ee3-47e5-b7ae-4620bb626e59"
      },
      "outputs": [
        {
          "data": {
            "image/png": "[encoded data removed]",
            "text/plain": [
              "<Figure size 432x288 with 1 Axes>"
            ]
          },
          "metadata": {
            "needs_background": "light"
          },
          "output_type": "display_data"
        }
      ],
      "source": [
        "ROC_Curve(y_valid, y_valid_predictions)"
      ]
    },
    {
      "cell_type": "markdown",
      "metadata": {
        "id": "jMp_CVTdN-71"
      },
      "source": [
        "### <font color='purple'>3</font>"
      ]
    },
    {
      "cell_type": "code",
      "execution_count": null,
      "metadata": {
        "id": "JDgQfJ93aPhm"
      },
      "outputs": [],
      "source": [
        "#Truncate the sentences to maximum 15 words\n",
        "train_cut_encoded_sentences = Truncate_sentences(train_encoded_sentences, 15)\n",
        "valid_cut_encoded_sentences = Truncate_sentences(valid_encoded_sentences, 15)\n",
        "train_seq = train_cut_encoded_sentences  #list of tensors with diff dimensions\n",
        "valid_seq = valid_cut_encoded_sentences\n",
        "\n",
        "def InitializeDataloader(x_data, y_data, batch_size):\n",
        "  \n",
        "  #Separate features and targets and save in tensors\n",
        "  sequence = x_data\n",
        "  target = y_data\n",
        "  #Pad the sequence\n",
        "  padded_sentences = torch.nn.utils.rnn.pad_sequence(sequence, batch_first=True, padding_value=0)\n",
        "  sentences_lengths = torch.LongTensor(list(map(len,sequence)))\n",
        "  x = padded_sentences\n",
        "  y_df = pd.DataFrame(target)\n",
        "  y = torch.tensor(y_df.values)\n",
        "\n",
        "  #Initialize dataloader\n",
        "  dataset = torch.utils.data.TensorDataset(x, y)\n",
        "  dataloader = DataLoader(dataset, batch_size=batch_size, shuffle=False)\n",
        "\n",
        "  return dataloader, sentences_lengths"
      ]
    },
    {
      "cell_type": "code",
      "execution_count": null,
      "metadata": {
        "colab": {
          "base_uri": "https://localhost:8080/"
        },
        "id": "7PDUG6cwaPhn",
        "outputId": "9b3da1dd-69d8-4ec2-c596-a0e8a633d0a0"
      },
      "outputs": [
        {
          "name": "stdout",
          "output_type": "stream",
          "text": [
            "Epoch   0: Training Loss = 0.98861\n",
            "Epoch   0: Validation Loss = 0.95657\n",
            "Epoch   1: Training Loss = 0.92279\n",
            "Epoch   1: Validation Loss = 0.92562\n",
            "Epoch   2: Training Loss = 0.89495\n",
            "Epoch   2: Validation Loss = 0.91068\n",
            "Epoch   3: Training Loss = 0.87580\n",
            "Epoch   3: Validation Loss = 0.90067\n",
            "Epoch   4: Training Loss = 0.85842\n",
            "Epoch   4: Validation Loss = 0.89278\n",
            "Epoch   5: Training Loss = 0.84215\n",
            "Epoch   5: Validation Loss = 0.88706\n",
            "Epoch   6: Training Loss = 0.82676\n",
            "Epoch   6: Validation Loss = 0.88365\n",
            "Epoch   7: Training Loss = 0.81169\n",
            "Epoch   7: Validation Loss = 0.88266\n",
            "Epoch   8: Training Loss = 0.79653\n",
            "Epoch   8: Validation Loss = 0.88216\n",
            "Epoch   9: Training Loss = 0.78132\n",
            "Epoch   9: Validation Loss = 0.88311\n"
          ]
        }
      ],
      "source": [
        "num_hidden = 48  #bigger overfits \n",
        "num_classes = 3\n",
        "learning_rate = 0.0005\n",
        "num_stacked_layers = 2 #maybe increase\n",
        "input_size = embedding_weights.shape[0]    #size of the vocab of the trainign set\n",
        "embedding_dimension = embedding_weights.shape[1]\n",
        "\n",
        "# 28.921, 200, 3, [32437, 50], 50, 4\n",
        "lstm_model = RNN(input_size, num_hidden, num_classes, embedding_weights, embedding_dimension, num_stacked_layers, dropout_prob = 0.0)\n",
        "loss_function = nn.CrossEntropyLoss()\n",
        "lstm_optimizer = optim.Adam(lstm_model.parameters(), lr=0.0003, weight_decay=1e-4)\n",
        "\n",
        "#TRAIN AND EVALUATE THE MODEL\n",
        "train_epoch_losses, valid_epoch_losses, y_valid_pred_class, y_valid_predictions = Train_Evaluate_TheModel(lstm_model, 10, 64, \n",
        "                                                                                                          loss_function, lstm_optimizer,\n",
        "                                                                                                          train_seq, training_df['label'],\n",
        "                                                                                                          valid_seq, validation_df['label'])"
      ]
    },
    {
      "cell_type": "code",
      "execution_count": null,
      "metadata": {
        "colab": {
          "base_uri": "https://localhost:8080/",
          "height": 295
        },
        "id": "H0cElrBKaPho",
        "outputId": "bc808cce-4cc3-4fa6-e5d2-976753fb378d"
      },
      "outputs": [
        {
          "data": {
            "image/png": "[encoded data removed]",
            "text/plain": [
              "<Figure size 432x288 with 1 Axes>"
            ]
          },
          "metadata": {
            "needs_background": "light"
          },
          "output_type": "display_data"
        }
      ],
      "source": [
        "epochs = np.arange(0, 10).tolist()\n",
        "Learning_Curve(epochs, train_epoch_losses, valid_epoch_losses)"
      ]
    },
    {
      "cell_type": "code",
      "execution_count": null,
      "metadata": {
        "id": "8qoqsejyaPho"
      },
      "outputs": [],
      "source": [
        "y_training_df = pd.DataFrame(training_df['label'])\n",
        "y_validation_df = pd.DataFrame(validation_df['label'])\n",
        "y_train = torch.tensor(y_training_df.values)\n",
        "y_valid = torch.tensor(y_validation_df.values)\n",
        "y_valid_predicted_classes = ConvertToTensor(y_valid_pred_class, y_valid.shape)\n",
        "y_valid_predictions = ConvertToTensor(y_valid_predictions, (y_valid.shape[0], num_classes))\n"
      ]
    },
    {
      "cell_type": "code",
      "execution_count": null,
      "metadata": {
        "colab": {
          "base_uri": "https://localhost:8080/"
        },
        "id": "zwq9GYB6aPho",
        "outputId": "5b683919-43b6-4f67-bf62-801f968a049c"
      },
      "outputs": [
        {
          "name": "stdout",
          "output_type": "stream",
          "text": [
            "              precision    recall  f1-score   support\n",
            "\n",
            "     class 0       0.62      0.82      0.70      1065\n",
            "     class 1       0.51      0.19      0.28       296\n",
            "     class 2       0.61      0.50      0.55       921\n",
            "\n",
            "    accuracy                           0.61      2282\n",
            "   macro avg       0.58      0.50      0.51      2282\n",
            "weighted avg       0.60      0.61      0.59      2282\n",
            "\n",
            "Precision score:\t 0.580681023207844\n",
            "Recall score:\t\t 0.5038250435598695\n",
            "F1 score:\t\t 0.5106143238017656\n"
          ]
        }
      ],
      "source": [
        "calculate_metrics(y_valid, y_valid_predictions, y_valid_predicted_classes)"
      ]
    },
    {
      "cell_type": "code",
      "execution_count": null,
      "metadata": {
        "colab": {
          "base_uri": "https://localhost:8080/",
          "height": 295
        },
        "id": "fi8Nbar8aPho",
        "outputId": "235c2819-40b5-496d-e531-576a8c3408d6"
      },
      "outputs": [
        {
          "data": {
            "image/png": "[encoded data removed]",
            "text/plain": [
              "<Figure size 432x288 with 1 Axes>"
            ]
          },
          "metadata": {
            "needs_background": "light"
          },
          "output_type": "display_data"
        }
      ],
      "source": [
        "ROC_Curve(y_valid, y_valid_predictions)"
      ]
    },
    {
      "cell_type": "markdown",
      "metadata": {
        "id": "4cHLeqQZODMA"
      },
      "source": [
        "### <font color='purple'>4</font>"
      ]
    },
    {
      "cell_type": "code",
      "execution_count": null,
      "metadata": {
        "id": "0qaDrtkjhQjh"
      },
      "outputs": [],
      "source": [
        "#Truncate the sentences to maximum 15 words\n",
        "train_cut_encoded_sentences = Truncate_sentences(train_encoded_sentences, 15)\n",
        "valid_cut_encoded_sentences = Truncate_sentences(valid_encoded_sentences, 15)\n",
        "train_seq = train_cut_encoded_sentences  #list of tensors with diff dimensions\n",
        "valid_seq = valid_cut_encoded_sentences\n",
        "\n",
        "def InitializeDataloader(x_data, y_data, batch_size):\n",
        "  \n",
        "  #Separate features and targets and save in tensors\n",
        "  sequence = x_data\n",
        "  target = y_data\n",
        "  #Pad the sequence\n",
        "  padded_sentences = torch.nn.utils.rnn.pad_sequence(sequence, batch_first=True, padding_value=0)\n",
        "  sentences_lengths = torch.LongTensor(list(map(len,sequence)))\n",
        "  x = padded_sentences\n",
        "  y_df = pd.DataFrame(target)\n",
        "  y = torch.tensor(y_df.values)\n",
        "\n",
        "  #Initialize dataloader\n",
        "  dataset = torch.utils.data.TensorDataset(x, y)\n",
        "  dataloader = DataLoader(dataset, batch_size=batch_size, shuffle=False)\n",
        "\n",
        "  return dataloader, sentences_lengths"
      ]
    },
    {
      "cell_type": "code",
      "execution_count": null,
      "metadata": {
        "colab": {
          "base_uri": "https://localhost:8080/"
        },
        "id": "0S6A-V6khQji",
        "outputId": "e72ff50d-a189-466d-a674-433eb8613715"
      },
      "outputs": [
        {
          "name": "stdout",
          "output_type": "stream",
          "text": [
            "Epoch   0: Training Loss = 0.97529\n",
            "Epoch   0: Validation Loss = 0.94189\n",
            "Epoch   1: Training Loss = 0.91240\n",
            "Epoch   1: Validation Loss = 0.90937\n",
            "Epoch   2: Training Loss = 0.88109\n",
            "Epoch   2: Validation Loss = 0.89181\n",
            "Epoch   3: Training Loss = 0.85881\n",
            "Epoch   3: Validation Loss = 0.87926\n",
            "Epoch   4: Training Loss = 0.83874\n",
            "Epoch   4: Validation Loss = 0.86934\n",
            "Epoch   5: Training Loss = 0.81951\n",
            "Epoch   5: Validation Loss = 0.86294\n",
            "Epoch   6: Training Loss = 0.80080\n",
            "Epoch   6: Validation Loss = 0.86021\n",
            "Epoch   7: Training Loss = 0.78237\n",
            "Epoch   7: Validation Loss = 0.86077\n",
            "Epoch   8: Training Loss = 0.76371\n",
            "Epoch   8: Validation Loss = 0.86440\n",
            "Epoch   9: Training Loss = 0.74477\n",
            "Epoch   9: Validation Loss = 0.86914\n"
          ]
        }
      ],
      "source": [
        "num_hidden = 48  #bigger overfits \n",
        "num_classes = 3\n",
        "learning_rate = 0.0005\n",
        "num_stacked_layers = 2 #maybe increase\n",
        "input_size = embedding_weights.shape[0]    #size of the vocab of the trainign set\n",
        "embedding_dimension = embedding_weights.shape[1]\n",
        "\n",
        "# 28.921, 200, 3, [32437, 50], 50, 4\n",
        "lstm_model = RNN(input_size, num_hidden, num_classes, embedding_weights, embedding_dimension, num_stacked_layers, dropout_prob = 0.0)\n",
        "loss_function = nn.CrossEntropyLoss()\n",
        "lstm_optimizer = optim.Adam(lstm_model.parameters(), lr=0.0003, weight_decay=1e-4)\n",
        "\n",
        "#TRAIN AND EVALUATE THE MODEL\n",
        "train_epoch_losses, valid_epoch_losses, y_valid_pred_class, y_valid_predictions = Train_Evaluate_TheModel(lstm_model, 10, 32, \n",
        "                                                                                                          loss_function, lstm_optimizer,\n",
        "                                                                                                          train_seq, training_df['label'],\n",
        "                                                                                                          valid_seq, validation_df['label'])"
      ]
    },
    {
      "cell_type": "code",
      "execution_count": null,
      "metadata": {
        "colab": {
          "base_uri": "https://localhost:8080/",
          "height": 295
        },
        "id": "CtHE8ksYhQjj",
        "outputId": "cd0265c0-318a-4679-992e-d594f32a7b22"
      },
      "outputs": [
        {
          "data": {
            "image/png": "[encoded data removed]",
            "text/plain": [
              "<Figure size 432x288 with 1 Axes>"
            ]
          },
          "metadata": {
            "needs_background": "light"
          },
          "output_type": "display_data"
        }
      ],
      "source": [
        "epochs = np.arange(0, 10).tolist()\n",
        "Learning_Curve(epochs, train_epoch_losses, valid_epoch_losses)"
      ]
    },
    {
      "cell_type": "code",
      "execution_count": null,
      "metadata": {
        "id": "M0-C-KQThQjk"
      },
      "outputs": [],
      "source": [
        "y_training_df = pd.DataFrame(training_df['label'])\n",
        "y_validation_df = pd.DataFrame(validation_df['label'])\n",
        "y_train = torch.tensor(y_training_df.values)\n",
        "y_valid = torch.tensor(y_validation_df.values)\n",
        "y_valid_predicted_classes = ConvertToTensor(y_valid_pred_class, y_valid.shape)\n",
        "y_valid_predictions = ConvertToTensor(y_valid_predictions, (y_valid.shape[0], num_classes))\n"
      ]
    },
    {
      "cell_type": "code",
      "execution_count": null,
      "metadata": {
        "colab": {
          "base_uri": "https://localhost:8080/"
        },
        "id": "q38Otnu-hQjk",
        "outputId": "19d0d181-af2b-4d59-e1bb-0d26e9529e2f"
      },
      "outputs": [
        {
          "name": "stdout",
          "output_type": "stream",
          "text": [
            "              precision    recall  f1-score   support\n",
            "\n",
            "     class 0       0.63      0.79      0.70      1065\n",
            "     class 1       0.45      0.23      0.30       296\n",
            "     class 2       0.61      0.52      0.56       921\n",
            "\n",
            "    accuracy                           0.61      2282\n",
            "   macro avg       0.56      0.51      0.52      2282\n",
            "weighted avg       0.60      0.61      0.59      2282\n",
            "\n",
            "Precision score:\t 0.5628757286229632\n",
            "Recall score:\t\t 0.5141994910449285\n",
            "F1 score:\t\t 0.5222026905736694\n"
          ]
        }
      ],
      "source": [
        "calculate_metrics(y_valid, y_valid_predictions, y_valid_predicted_classes)"
      ]
    },
    {
      "cell_type": "code",
      "execution_count": null,
      "metadata": {
        "colab": {
          "base_uri": "https://localhost:8080/",
          "height": 295
        },
        "id": "MOAJGDmThQjl",
        "outputId": "7fb2138a-f1a2-4b96-bf40-ca0ea1baeb28"
      },
      "outputs": [
        {
          "data": {
            "image/png": "[encoded data removed]",
            "text/plain": [
              "<Figure size 432x288 with 1 Axes>"
            ]
          },
          "metadata": {
            "needs_background": "light"
          },
          "output_type": "display_data"
        }
      ],
      "source": [
        "ROC_Curve(y_valid, y_valid_predictions)"
      ]
    },
    {
      "cell_type": "markdown",
      "metadata": {
        "id": "nn2_HcLJOG7l"
      },
      "source": [
        "### <font color='purple'>5</font>"
      ]
    },
    {
      "cell_type": "code",
      "execution_count": null,
      "metadata": {
        "id": "7UWAt4oRoZT1"
      },
      "outputs": [],
      "source": [
        "#Truncate the sentences to maximum 15 words\n",
        "train_cut_encoded_sentences = Truncate_sentences(train_encoded_sentences, 15)\n",
        "valid_cut_encoded_sentences = Truncate_sentences(valid_encoded_sentences, 15)\n",
        "train_seq = train_cut_encoded_sentences  #list of tensors with diff dimensions\n",
        "valid_seq = valid_cut_encoded_sentences\n",
        "\n",
        "def InitializeDataloader(x_data, y_data, batch_size):\n",
        "  \n",
        "  #Separate features and targets and save in tensors\n",
        "  sequence = x_data\n",
        "  target = y_data\n",
        "  #Pad the sequence\n",
        "  padded_sentences = torch.nn.utils.rnn.pad_sequence(sequence, batch_first=True, padding_value=0)\n",
        "  sentences_lengths = torch.LongTensor(list(map(len,sequence)))\n",
        "  x = padded_sentences\n",
        "  y_df = pd.DataFrame(target)\n",
        "  y = torch.tensor(y_df.values)\n",
        "\n",
        "  #Initialize dataloader\n",
        "  dataset = torch.utils.data.TensorDataset(x, y)\n",
        "  dataloader = DataLoader(dataset, batch_size=batch_size, shuffle=False)\n",
        "\n",
        "  return dataloader, sentences_lengths"
      ]
    },
    {
      "cell_type": "code",
      "execution_count": null,
      "metadata": {
        "colab": {
          "base_uri": "https://localhost:8080/"
        },
        "id": "iNz3PnqDoZT1",
        "outputId": "f42362ab-ec0b-4206-a80a-3beddadebd5b"
      },
      "outputs": [
        {
          "name": "stdout",
          "output_type": "stream",
          "text": [
            "Epoch   0: Training Loss = 0.97711\n",
            "Epoch   0: Validation Loss = 0.94508\n",
            "Epoch   1: Training Loss = 0.91785\n",
            "Epoch   1: Validation Loss = 0.91853\n",
            "Epoch   2: Training Loss = 0.88665\n",
            "Epoch   2: Validation Loss = 0.90068\n",
            "Epoch   3: Training Loss = 0.86462\n",
            "Epoch   3: Validation Loss = 0.88842\n",
            "Epoch   4: Training Loss = 0.84492\n",
            "Epoch   4: Validation Loss = 0.87526\n",
            "Epoch   5: Training Loss = 0.82834\n",
            "Epoch   5: Validation Loss = 0.86971\n",
            "Epoch   6: Training Loss = 0.81194\n",
            "Epoch   6: Validation Loss = 0.86908\n",
            "Epoch   7: Training Loss = 0.79645\n",
            "Epoch   7: Validation Loss = 0.86802\n",
            "Epoch   8: Training Loss = 0.78171\n",
            "Epoch   8: Validation Loss = 0.87150\n",
            "Epoch   9: Training Loss = 0.76701\n",
            "Epoch   9: Validation Loss = 0.87599\n"
          ]
        }
      ],
      "source": [
        "num_hidden = 48  #bigger overfits \n",
        "num_classes = 3\n",
        "learning_rate = 0.0005\n",
        "num_stacked_layers = 2 #maybe increase\n",
        "input_size = embedding_weights.shape[0]    #size of the vocab of the trainign set\n",
        "embedding_dimension = embedding_weights.shape[1]\n",
        "\n",
        "# 28.921, 200, 3, [32437, 50], 50, 4\n",
        "lstm_model = RNN(input_size, num_hidden, num_classes, embedding_weights, embedding_dimension, num_stacked_layers)\n",
        "loss_function = nn.CrossEntropyLoss()\n",
        "lstm_optimizer = optim.Adam(lstm_model.parameters(), lr=0.0003, weight_decay=1e-4)\n",
        "\n",
        "#TRAIN AND EVALUATE THE MODEL\n",
        "train_epoch_losses, valid_epoch_losses, y_valid_pred_class, y_valid_predictions = Train_Evaluate_TheModel(lstm_model, 10, 32, \n",
        "                                                                                                          loss_function, lstm_optimizer,\n",
        "                                                                                                          train_seq, training_df['label'],\n",
        "                                                                                                          valid_seq, validation_df['label'])"
      ]
    },
    {
      "cell_type": "code",
      "execution_count": null,
      "metadata": {
        "colab": {
          "base_uri": "https://localhost:8080/",
          "height": 295
        },
        "id": "RJtnijLyoZT2",
        "outputId": "aa671239-ec22-40ee-c961-3b66797f32b8"
      },
      "outputs": [
        {
          "data": {
            "image/png": "[encoded data removed]",
            "text/plain": [
              "<Figure size 432x288 with 1 Axes>"
            ]
          },
          "metadata": {
            "needs_background": "light"
          },
          "output_type": "display_data"
        }
      ],
      "source": [
        "epochs = np.arange(0, 10).tolist()\n",
        "Learning_Curve(epochs, train_epoch_losses, valid_epoch_losses)"
      ]
    },
    {
      "cell_type": "code",
      "execution_count": null,
      "metadata": {
        "id": "6ENT1Zw2oZT2"
      },
      "outputs": [],
      "source": [
        "y_training_df = pd.DataFrame(training_df['label'])\n",
        "y_validation_df = pd.DataFrame(validation_df['label'])\n",
        "y_train = torch.tensor(y_training_df.values)\n",
        "y_valid = torch.tensor(y_validation_df.values)\n",
        "y_valid_predicted_classes = ConvertToTensor(y_valid_pred_class, y_valid.shape)\n",
        "y_valid_predictions = ConvertToTensor(y_valid_predictions, (y_valid.shape[0], num_classes))\n"
      ]
    },
    {
      "cell_type": "code",
      "execution_count": null,
      "metadata": {
        "colab": {
          "base_uri": "https://localhost:8080/"
        },
        "id": "3CUWX7GnoZT2",
        "outputId": "59f6f8d6-20ea-41f7-9f32-7d1fb7170819"
      },
      "outputs": [
        {
          "name": "stdout",
          "output_type": "stream",
          "text": [
            "              precision    recall  f1-score   support\n",
            "\n",
            "     class 0       0.63      0.80      0.70      1065\n",
            "     class 1       0.44      0.20      0.27       296\n",
            "     class 2       0.60      0.51      0.55       921\n",
            "\n",
            "    accuracy                           0.61      2282\n",
            "   macro avg       0.55      0.50      0.51      2282\n",
            "weighted avg       0.59      0.61      0.59      2282\n",
            "\n",
            "Precision score:\t 0.5534066262550148\n",
            "Recall score:\t\t 0.5025956749978405\n",
            "F1 score:\t\t 0.50829494155775\n"
          ]
        }
      ],
      "source": [
        "calculate_metrics(y_valid, y_valid_predictions, y_valid_predicted_classes)"
      ]
    },
    {
      "cell_type": "code",
      "execution_count": null,
      "metadata": {
        "colab": {
          "base_uri": "https://localhost:8080/",
          "height": 295
        },
        "id": "xl5G7viLoZT2",
        "outputId": "56f7d549-cf24-496c-9e5e-dd5377bd84fd"
      },
      "outputs": [
        {
          "data": {
            "image/png": "[encoded data removed]",
            "text/plain": [
              "<Figure size 432x288 with 1 Axes>"
            ]
          },
          "metadata": {
            "needs_background": "light"
          },
          "output_type": "display_data"
        }
      ],
      "source": [
        "ROC_Curve(y_valid, y_valid_predictions)"
      ]
    },
    {
      "cell_type": "markdown",
      "metadata": {
        "id": "DeW1Fw2BLgn6"
      },
      "source": [
        "## <font color='purple'>GRU</font>"
      ]
    },
    {
      "cell_type": "markdown",
      "metadata": {
        "id": "wW7gzPKUNQOr"
      },
      "source": [
        "### <font color='purple'>1</font>"
      ]
    },
    {
      "cell_type": "code",
      "execution_count": null,
      "metadata": {
        "id": "xmZccGHONRs0"
      },
      "outputs": [],
      "source": [
        "#Truncate the sentences to maximum 20 words\n",
        "train_cut_encoded_sentences = Truncate_sentences(train_encoded_sentences, 20)\n",
        "valid_cut_encoded_sentences = Truncate_sentences(valid_encoded_sentences, 20)\n",
        "train_seq = train_cut_encoded_sentences  #list of tensors with diff dimensions\n",
        "valid_seq = valid_cut_encoded_sentences\n",
        "\n",
        "def InitializeDataloader(x_data, y_data, batch_size):\n",
        "  \n",
        "  #Separate features and targets and save in tensors\n",
        "  sequence = x_data\n",
        "  target = y_data\n",
        "  #Pad the sequence\n",
        "  padded_sentences = torch.nn.utils.rnn.pad_sequence(sequence, batch_first=True, padding_value=0)\n",
        "  sentences_lengths = torch.LongTensor(list(map(len,sequence)))\n",
        "  x = padded_sentences\n",
        "  y_df = pd.DataFrame(target)\n",
        "  y = torch.tensor(y_df.values)\n",
        "\n",
        "  #Initialize dataloader\n",
        "  dataset = torch.utils.data.TensorDataset(x, y)\n",
        "  dataloader = DataLoader(dataset, batch_size=batch_size, shuffle=False)\n",
        "\n",
        "  return dataloader, sentences_lengths"
      ]
    },
    {
      "cell_type": "code",
      "execution_count": null,
      "metadata": {
        "colab": {
          "base_uri": "https://localhost:8080/"
        },
        "id": "8-vUMFWnNc4U",
        "outputId": "19fc3864-4ac7-4df5-a006-a84e2569a510"
      },
      "outputs": [
        {
          "name": "stdout",
          "output_type": "stream",
          "text": [
            "Epoch   0: Training Loss = 1.03288\n",
            "Epoch   0: Validation Loss = 1.00271\n",
            "Epoch   1: Training Loss = 0.98195\n",
            "Epoch   1: Validation Loss = 0.97785\n",
            "Epoch   2: Training Loss = 0.95332\n",
            "Epoch   2: Validation Loss = 0.96186\n",
            "Epoch   3: Training Loss = 0.93172\n",
            "Epoch   3: Validation Loss = 0.95072\n",
            "Epoch   4: Training Loss = 0.91300\n",
            "Epoch   4: Validation Loss = 0.94401\n",
            "Epoch   5: Training Loss = 0.89543\n",
            "Epoch   5: Validation Loss = 0.93713\n",
            "Epoch   6: Training Loss = 0.87686\n",
            "Epoch   6: Validation Loss = 0.94041\n",
            "Epoch   7: Training Loss = 0.85990\n",
            "Epoch   7: Validation Loss = 0.94444\n",
            "Epoch   8: Training Loss = 0.84266\n",
            "Epoch   8: Validation Loss = 0.96008\n",
            "Epoch   9: Training Loss = 0.82610\n",
            "Epoch   9: Validation Loss = 0.97994\n"
          ]
        }
      ],
      "source": [
        "num_hidden = 128  #bigger overfits \n",
        "num_classes = 3\n",
        "learning_rate = 0.0005\n",
        "num_stacked_layers = 4 #maybe increase\n",
        "input_size = embedding_weights.shape[0]    #size of the vocab of the trainign set\n",
        "embedding_dimension = embedding_weights.shape[1]\n",
        "\n",
        "# 28.921, 200, 3, [32437, 50], 50, 4\n",
        "gru_model = RNN(input_size, num_hidden, num_classes, embedding_weights, embedding_dimension, num_stacked_layers, cell_type='GRU')\n",
        "loss_function = nn.CrossEntropyLoss()\n",
        "gru_optimizer = optim.Adam(gru_model.parameters(), lr=0.0003, weight_decay=1e-4)\n",
        "\n",
        "#TRAIN AND EVALUATE THE MODEL\n",
        "train_epoch_losses, valid_epoch_losses, y_valid_pred_class, y_valid_predictions = Train_Evaluate_TheModel(gru_model, 10, 64, \n",
        "                                                                                                          loss_function, gru_optimizer, \n",
        "                                                                                                          train_seq, training_df['label'],\n",
        "                                                                                                          valid_seq, validation_df['label'])"
      ]
    },
    {
      "cell_type": "code",
      "execution_count": null,
      "metadata": {
        "colab": {
          "base_uri": "https://localhost:8080/",
          "height": 295
        },
        "id": "soi3yayYNc4V",
        "outputId": "c7120b93-7c24-4626-dce5-daa58a10949d"
      },
      "outputs": [
        {
          "data": {
            "image/png": "[encoded data removed]",
            "text/plain": [
              "<Figure size 432x288 with 1 Axes>"
            ]
          },
          "metadata": {
            "needs_background": "light"
          },
          "output_type": "display_data"
        }
      ],
      "source": [
        "epochs = np.arange(0, 10).tolist()\n",
        "Learning_Curve(epochs, train_epoch_losses, valid_epoch_losses)"
      ]
    },
    {
      "cell_type": "code",
      "execution_count": null,
      "metadata": {
        "id": "ssMSPIc-Nc4V"
      },
      "outputs": [],
      "source": [
        "y_training_df = pd.DataFrame(training_df['label'])\n",
        "y_validation_df = pd.DataFrame(validation_df['label'])\n",
        "y_train = torch.tensor(y_training_df.values)\n",
        "y_valid = torch.tensor(y_validation_df.values)\n",
        "y_valid_predicted_classes = ConvertToTensor(y_valid_pred_class, y_valid.shape)\n",
        "y_valid_predictions = ConvertToTensor(y_valid_predictions, (y_valid.shape[0], num_classes))\n"
      ]
    },
    {
      "cell_type": "code",
      "execution_count": null,
      "metadata": {
        "colab": {
          "base_uri": "https://localhost:8080/"
        },
        "id": "5wsntbUxNc4V",
        "outputId": "4a91b84b-07f3-4946-e95c-c7fcd70586d3"
      },
      "outputs": [
        {
          "name": "stdout",
          "output_type": "stream",
          "text": [
            "              precision    recall  f1-score   support\n",
            "\n",
            "     class 0       0.55      0.88      0.68      1065\n",
            "     class 1       0.40      0.22      0.28       296\n",
            "     class 2       0.61      0.29      0.39       921\n",
            "\n",
            "    accuracy                           0.55      2282\n",
            "   macro avg       0.52      0.46      0.45      2282\n",
            "weighted avg       0.56      0.55      0.51      2282\n",
            "\n",
            "Precision score:\t 0.5223663816384213\n",
            "Recall score:\t\t 0.4604033691442509\n",
            "F1 score:\t\t 0.45029111283023604\n"
          ]
        }
      ],
      "source": [
        "calculate_metrics(y_valid, y_valid_predictions, y_valid_predicted_classes)"
      ]
    },
    {
      "cell_type": "code",
      "execution_count": null,
      "metadata": {
        "colab": {
          "base_uri": "https://localhost:8080/",
          "height": 295
        },
        "id": "PdZzHC9ANc4V",
        "outputId": "80c40926-2abe-4ee0-e0f6-1a60c6227444"
      },
      "outputs": [
        {
          "data": {
            "image/png": "[encoded data removed]",
            "text/plain": [
              "<Figure size 432x288 with 1 Axes>"
            ]
          },
          "metadata": {
            "needs_background": "light"
          },
          "output_type": "display_data"
        }
      ],
      "source": [
        "ROC_Curve(y_valid, y_valid_predictions)"
      ]
    },
    {
      "cell_type": "markdown",
      "metadata": {
        "id": "MkC0qwbxOMe5"
      },
      "source": [
        "### <font color='purple'>2</font>"
      ]
    },
    {
      "cell_type": "code",
      "execution_count": null,
      "metadata": {
        "id": "CkfqGNCOWe41"
      },
      "outputs": [],
      "source": [
        "#Truncate the sentences to maximum 15 words\n",
        "train_cut_encoded_sentences = Truncate_sentences(train_encoded_sentences, 15)\n",
        "valid_cut_encoded_sentences = Truncate_sentences(valid_encoded_sentences, 15)\n",
        "train_seq = train_cut_encoded_sentences  #list of tensors with diff dimensions\n",
        "valid_seq = valid_cut_encoded_sentences\n",
        "\n",
        "def InitializeDataloader(x_data, y_data, batch_size):\n",
        "  \n",
        "  #Separate features and targets and save in tensors\n",
        "  sequence = x_data\n",
        "  target = y_data\n",
        "  #Pad the sequence\n",
        "  padded_sentences = torch.nn.utils.rnn.pad_sequence(sequence, batch_first=True, padding_value=0)\n",
        "  sentences_lengths = torch.LongTensor(list(map(len,sequence)))\n",
        "  x = padded_sentences\n",
        "  y_df = pd.DataFrame(target)\n",
        "  y = torch.tensor(y_df.values)\n",
        "\n",
        "  #Initialize dataloader\n",
        "  dataset = torch.utils.data.TensorDataset(x, y)\n",
        "  dataloader = DataLoader(dataset, batch_size=batch_size, shuffle=False)\n",
        "\n",
        "  return dataloader, sentences_lengths"
      ]
    },
    {
      "cell_type": "code",
      "execution_count": null,
      "metadata": {
        "colab": {
          "base_uri": "https://localhost:8080/"
        },
        "id": "ZpQ6ZgHmWe41",
        "outputId": "103e0ba8-64f0-4aab-88b3-a3f8f6cb06c0"
      },
      "outputs": [
        {
          "name": "stdout",
          "output_type": "stream",
          "text": [
            "Epoch   0: Training Loss = 0.97111\n",
            "Epoch   0: Validation Loss = 0.94080\n",
            "Epoch   1: Training Loss = 0.91018\n",
            "Epoch   1: Validation Loss = 0.91490\n",
            "Epoch   2: Training Loss = 0.88388\n",
            "Epoch   2: Validation Loss = 0.90001\n",
            "Epoch   3: Training Loss = 0.86342\n",
            "Epoch   3: Validation Loss = 0.88954\n",
            "Epoch   4: Training Loss = 0.84446\n",
            "Epoch   4: Validation Loss = 0.88022\n",
            "Epoch   5: Training Loss = 0.82589\n",
            "Epoch   5: Validation Loss = 0.87280\n",
            "Epoch   6: Training Loss = 0.80766\n",
            "Epoch   6: Validation Loss = 0.86897\n",
            "Epoch   7: Training Loss = 0.78967\n",
            "Epoch   7: Validation Loss = 0.86914\n",
            "Epoch   8: Training Loss = 0.77155\n",
            "Epoch   8: Validation Loss = 0.87331\n",
            "Epoch   9: Training Loss = 0.75296\n",
            "Epoch   9: Validation Loss = 0.88142\n"
          ]
        }
      ],
      "source": [
        "num_hidden = 80  #bigger overfits \n",
        "num_classes = 3\n",
        "learning_rate = 0.0005\n",
        "num_stacked_layers = 4 #maybe increase\n",
        "input_size = embedding_weights.shape[0]    #size of the vocab of the trainign set\n",
        "embedding_dimension = embedding_weights.shape[1]\n",
        "\n",
        "# 28.921, 200, 3, [32437, 50], 50, 4\n",
        "gru_model = RNN(input_size, num_hidden, num_classes, embedding_weights, embedding_dimension, num_stacked_layers, cell_type='GRU', dropout_prob = 0.0)\n",
        "loss_function = nn.CrossEntropyLoss()\n",
        "gru_optimizer = optim.Adam(gru_model.parameters(), lr=0.0003, weight_decay=1e-4)\n",
        "\n",
        "#TRAIN AND EVALUATE THE MODEL\n",
        "train_epoch_losses, valid_epoch_losses, y_valid_pred_class, y_valid_predictions = Train_Evaluate_TheModel(gru_model, 10, 64, \n",
        "                                                                                                          loss_function, gru_optimizer, \n",
        "                                                                                                          train_seq, training_df['label'],\n",
        "                                                                                                          valid_seq, validation_df['label'])"
      ]
    },
    {
      "cell_type": "code",
      "execution_count": null,
      "metadata": {
        "colab": {
          "base_uri": "https://localhost:8080/",
          "height": 295
        },
        "id": "qIcxTGEcWe41",
        "outputId": "54418cfd-2e83-45a3-b518-ac0dc421f12f"
      },
      "outputs": [
        {
          "data": {
            "image/png": "[encoded data removed]",
            "text/plain": [
              "<Figure size 432x288 with 1 Axes>"
            ]
          },
          "metadata": {
            "needs_background": "light"
          },
          "output_type": "display_data"
        }
      ],
      "source": [
        "epochs = np.arange(0, 10).tolist()\n",
        "Learning_Curve(epochs, train_epoch_losses, valid_epoch_losses)"
      ]
    },
    {
      "cell_type": "code",
      "execution_count": null,
      "metadata": {
        "id": "GzmRLm1GWe42"
      },
      "outputs": [],
      "source": [
        "y_training_df = pd.DataFrame(training_df['label'])\n",
        "y_validation_df = pd.DataFrame(validation_df['label'])\n",
        "y_train = torch.tensor(y_training_df.values)\n",
        "y_valid = torch.tensor(y_validation_df.values)\n",
        "y_valid_predicted_classes = ConvertToTensor(y_valid_pred_class, y_valid.shape)\n",
        "y_valid_predictions = ConvertToTensor(y_valid_predictions, (y_valid.shape[0], num_classes))\n"
      ]
    },
    {
      "cell_type": "code",
      "execution_count": null,
      "metadata": {
        "colab": {
          "base_uri": "https://localhost:8080/"
        },
        "id": "2abdUgq9We42",
        "outputId": "ccc7b7e4-6804-465d-b86e-3fe71c3d47a0"
      },
      "outputs": [
        {
          "name": "stdout",
          "output_type": "stream",
          "text": [
            "              precision    recall  f1-score   support\n",
            "\n",
            "     class 0       0.63      0.79      0.70      1065\n",
            "     class 1       0.44      0.24      0.31       296\n",
            "     class 2       0.60      0.51      0.55       921\n",
            "\n",
            "    accuracy                           0.61      2282\n",
            "   macro avg       0.56      0.52      0.52      2282\n",
            "weighted avg       0.59      0.61      0.59      2282\n",
            "\n",
            "Precision score:\t 0.5575493236758091\n",
            "Recall score:\t\t 0.5158085920025637\n",
            "F1 score:\t\t 0.5232485701060673\n"
          ]
        }
      ],
      "source": [
        "calculate_metrics(y_valid, y_valid_predictions, y_valid_predicted_classes)"
      ]
    },
    {
      "cell_type": "code",
      "execution_count": null,
      "metadata": {
        "colab": {
          "base_uri": "https://localhost:8080/",
          "height": 295
        },
        "id": "pTXfQhGaWe42",
        "outputId": "65ce7336-09c6-4343-9a0e-d81bbc99225a"
      },
      "outputs": [
        {
          "data": {
            "image/png": "[encoded data removed]",
            "text/plain": [
              "<Figure size 432x288 with 1 Axes>"
            ]
          },
          "metadata": {
            "needs_background": "light"
          },
          "output_type": "display_data"
        }
      ],
      "source": [
        "ROC_Curve(y_valid, y_valid_predictions)"
      ]
    },
    {
      "cell_type": "markdown",
      "metadata": {
        "id": "saJmZtQ9OMe5"
      },
      "source": [
        "### <font color='purple'>3</font>"
      ]
    },
    {
      "cell_type": "code",
      "execution_count": null,
      "metadata": {
        "id": "ElyM41PvaXYQ"
      },
      "outputs": [],
      "source": [
        "#Truncate the sentences to maximum 15 words\n",
        "train_cut_encoded_sentences = Truncate_sentences(train_encoded_sentences, 15)\n",
        "valid_cut_encoded_sentences = Truncate_sentences(valid_encoded_sentences, 15)\n",
        "train_seq = train_cut_encoded_sentences  #list of tensors with diff dimensions\n",
        "valid_seq = valid_cut_encoded_sentences\n",
        "\n",
        "def InitializeDataloader(x_data, y_data, batch_size):\n",
        "  \n",
        "  #Separate features and targets and save in tensors\n",
        "  sequence = x_data\n",
        "  target = y_data\n",
        "  #Pad the sequence\n",
        "  padded_sentences = torch.nn.utils.rnn.pad_sequence(sequence, batch_first=True, padding_value=0)\n",
        "  sentences_lengths = torch.LongTensor(list(map(len,sequence)))\n",
        "  x = padded_sentences\n",
        "  y_df = pd.DataFrame(target)\n",
        "  y = torch.tensor(y_df.values)\n",
        "\n",
        "  #Initialize dataloader\n",
        "  dataset = torch.utils.data.TensorDataset(x, y)\n",
        "  dataloader = DataLoader(dataset, batch_size=batch_size, shuffle=False)\n",
        "\n",
        "  return dataloader, sentences_lengths"
      ]
    },
    {
      "cell_type": "code",
      "execution_count": null,
      "metadata": {
        "colab": {
          "base_uri": "https://localhost:8080/"
        },
        "id": "IYnP4QDKaXYQ",
        "outputId": "b56f873f-8028-4aa9-c017-fa65f798e606"
      },
      "outputs": [
        {
          "name": "stdout",
          "output_type": "stream",
          "text": [
            "Epoch   0: Training Loss = 0.99550\n",
            "Epoch   0: Validation Loss = 0.95809\n",
            "Epoch   1: Training Loss = 0.93043\n",
            "Epoch   1: Validation Loss = 0.93065\n",
            "Epoch   2: Training Loss = 0.89938\n",
            "Epoch   2: Validation Loss = 0.91279\n",
            "Epoch   3: Training Loss = 0.87818\n",
            "Epoch   3: Validation Loss = 0.90162\n",
            "Epoch   4: Training Loss = 0.85939\n",
            "Epoch   4: Validation Loss = 0.89287\n",
            "Epoch   5: Training Loss = 0.84151\n",
            "Epoch   5: Validation Loss = 0.88506\n",
            "Epoch   6: Training Loss = 0.82445\n",
            "Epoch   6: Validation Loss = 0.87905\n",
            "Epoch   7: Training Loss = 0.80815\n",
            "Epoch   7: Validation Loss = 0.87497\n",
            "Epoch   8: Training Loss = 0.79261\n",
            "Epoch   8: Validation Loss = 0.87275\n",
            "Epoch   9: Training Loss = 0.77774\n",
            "Epoch   9: Validation Loss = 0.87244\n"
          ]
        }
      ],
      "source": [
        "num_hidden = 48  #bigger overfits \n",
        "num_classes = 3\n",
        "learning_rate = 0.0005\n",
        "num_stacked_layers = 2 #maybe increase\n",
        "input_size = embedding_weights.shape[0]    #size of the vocab of the trainign set\n",
        "embedding_dimension = embedding_weights.shape[1]\n",
        "\n",
        "# 28.921, 200, 3, [32437, 50], 50, 4\n",
        "gru_model = RNN(input_size, num_hidden, num_classes, embedding_weights, embedding_dimension, num_stacked_layers, cell_type='GRU', dropout_prob = 0.0)\n",
        "loss_function = nn.CrossEntropyLoss()\n",
        "gru_optimizer = optim.Adam(gru_model.parameters(), lr=0.0003, weight_decay=1e-4)\n",
        "\n",
        "#TRAIN AND EVALUATE THE MODEL\n",
        "train_epoch_losses, valid_epoch_losses, y_valid_pred_class, y_valid_predictions = Train_Evaluate_TheModel(gru_model, 10, 64, \n",
        "                                                                                                          loss_function, gru_optimizer, \n",
        "                                                                                                          train_seq, training_df['label'],\n",
        "                                                                                                          valid_seq, validation_df['label'])"
      ]
    },
    {
      "cell_type": "code",
      "execution_count": null,
      "metadata": {
        "colab": {
          "base_uri": "https://localhost:8080/",
          "height": 295
        },
        "id": "1nuNJPBzaXYQ",
        "outputId": "013f7f3d-88c2-433f-c53f-9f7ef7b72966"
      },
      "outputs": [
        {
          "data": {
            "image/png": "[encoded data removed]",
            "text/plain": [
              "<Figure size 432x288 with 1 Axes>"
            ]
          },
          "metadata": {
            "needs_background": "light"
          },
          "output_type": "display_data"
        }
      ],
      "source": [
        "epochs = np.arange(0, 10).tolist()\n",
        "Learning_Curve(epochs, train_epoch_losses, valid_epoch_losses)"
      ]
    },
    {
      "cell_type": "code",
      "execution_count": null,
      "metadata": {
        "id": "vUGwPrpZaXYR"
      },
      "outputs": [],
      "source": [
        "y_training_df = pd.DataFrame(training_df['label'])\n",
        "y_validation_df = pd.DataFrame(validation_df['label'])\n",
        "y_train = torch.tensor(y_training_df.values)\n",
        "y_valid = torch.tensor(y_validation_df.values)\n",
        "y_valid_predicted_classes = ConvertToTensor(y_valid_pred_class, y_valid.shape)\n",
        "y_valid_predictions = ConvertToTensor(y_valid_predictions, (y_valid.shape[0], num_classes))\n"
      ]
    },
    {
      "cell_type": "code",
      "execution_count": null,
      "metadata": {
        "colab": {
          "base_uri": "https://localhost:8080/"
        },
        "id": "1PukceceaXYR",
        "outputId": "d124aac4-8a8c-4ece-a135-7ce83844f9e9"
      },
      "outputs": [
        {
          "name": "stdout",
          "output_type": "stream",
          "text": [
            "              precision    recall  f1-score   support\n",
            "\n",
            "     class 0       0.63      0.82      0.71      1065\n",
            "     class 1       0.54      0.17      0.26       296\n",
            "     class 2       0.60      0.53      0.56       921\n",
            "\n",
            "    accuracy                           0.62      2282\n",
            "   macro avg       0.59      0.50      0.51      2282\n",
            "weighted avg       0.61      0.62      0.59      2282\n",
            "\n",
            "Precision score:\t 0.590330962322814\n",
            "Recall score:\t\t 0.5048155303075704\n",
            "F1 score:\t\t 0.5105226925910635\n"
          ]
        }
      ],
      "source": [
        "calculate_metrics(y_valid, y_valid_predictions, y_valid_predicted_classes)"
      ]
    },
    {
      "cell_type": "code",
      "execution_count": null,
      "metadata": {
        "colab": {
          "base_uri": "https://localhost:8080/",
          "height": 295
        },
        "id": "LR6TapQTaXYR",
        "outputId": "452a8e9a-0aa0-4827-f322-5f4bda427506"
      },
      "outputs": [
        {
          "data": {
            "image/png": "[encoded data removed]",
            "text/plain": [
              "<Figure size 432x288 with 1 Axes>"
            ]
          },
          "metadata": {
            "needs_background": "light"
          },
          "output_type": "display_data"
        }
      ],
      "source": [
        "ROC_Curve(y_valid, y_valid_predictions)"
      ]
    },
    {
      "cell_type": "markdown",
      "metadata": {
        "id": "TQ1oiJmyOMe6"
      },
      "source": [
        "### <font color='purple'>4</font>"
      ]
    },
    {
      "cell_type": "code",
      "execution_count": null,
      "metadata": {
        "id": "gMpQt1YqhZ2S"
      },
      "outputs": [],
      "source": [
        "#Truncate the sentences to maximum 15 words\n",
        "train_cut_encoded_sentences = Truncate_sentences(train_encoded_sentences, 15)\n",
        "valid_cut_encoded_sentences = Truncate_sentences(valid_encoded_sentences, 15)\n",
        "train_seq = train_cut_encoded_sentences  #list of tensors with diff dimensions\n",
        "valid_seq = valid_cut_encoded_sentences\n",
        "\n",
        "def InitializeDataloader(x_data, y_data, batch_size):\n",
        "  \n",
        "  #Separate features and targets and save in tensors\n",
        "  sequence = x_data\n",
        "  target = y_data\n",
        "  #Pad the sequence\n",
        "  padded_sentences = torch.nn.utils.rnn.pad_sequence(sequence, batch_first=True, padding_value=0)\n",
        "  sentences_lengths = torch.LongTensor(list(map(len,sequence)))\n",
        "  x = padded_sentences\n",
        "  y_df = pd.DataFrame(target)\n",
        "  y = torch.tensor(y_df.values)\n",
        "\n",
        "  #Initialize dataloader\n",
        "  dataset = torch.utils.data.TensorDataset(x, y)\n",
        "  dataloader = DataLoader(dataset, batch_size=batch_size, shuffle=False)\n",
        "\n",
        "  return dataloader, sentences_lengths"
      ]
    },
    {
      "cell_type": "code",
      "execution_count": null,
      "metadata": {
        "colab": {
          "base_uri": "https://localhost:8080/"
        },
        "id": "2Nj8EoxJhZ2S",
        "outputId": "c09c278a-d828-400e-fa92-09b107f01d6c"
      },
      "outputs": [
        {
          "name": "stdout",
          "output_type": "stream",
          "text": [
            "Epoch   0: Training Loss = 0.97831\n",
            "Epoch   0: Validation Loss = 0.93850\n",
            "Epoch   1: Training Loss = 0.91328\n",
            "Epoch   1: Validation Loss = 0.90791\n",
            "Epoch   2: Training Loss = 0.88070\n",
            "Epoch   2: Validation Loss = 0.89067\n",
            "Epoch   3: Training Loss = 0.85571\n",
            "Epoch   3: Validation Loss = 0.87774\n",
            "Epoch   4: Training Loss = 0.83346\n",
            "Epoch   4: Validation Loss = 0.86784\n",
            "Epoch   5: Training Loss = 0.81298\n",
            "Epoch   5: Validation Loss = 0.86170\n",
            "Epoch   6: Training Loss = 0.79386\n",
            "Epoch   6: Validation Loss = 0.85954\n",
            "Epoch   7: Training Loss = 0.77575\n",
            "Epoch   7: Validation Loss = 0.86095\n",
            "Epoch   8: Training Loss = 0.75833\n",
            "Epoch   8: Validation Loss = 0.86567\n",
            "Epoch   9: Training Loss = 0.74128\n",
            "Epoch   9: Validation Loss = 0.87358\n"
          ]
        }
      ],
      "source": [
        "num_hidden = 48  #bigger overfits \n",
        "num_classes = 3\n",
        "learning_rate = 0.0005\n",
        "num_stacked_layers = 2 #maybe increase\n",
        "input_size = embedding_weights.shape[0]    #size of the vocab of the trainign set\n",
        "embedding_dimension = embedding_weights.shape[1]\n",
        "\n",
        "# 28.921, 200, 3, [32437, 50], 50, 4\n",
        "gru_model = RNN(input_size, num_hidden, num_classes, embedding_weights, embedding_dimension, num_stacked_layers, cell_type='GRU', dropout_prob = 0.0)\n",
        "loss_function = nn.CrossEntropyLoss()\n",
        "gru_optimizer = optim.Adam(gru_model.parameters(), lr=0.0003, weight_decay=1e-4)\n",
        "\n",
        "#TRAIN AND EVALUATE THE MODEL\n",
        "train_epoch_losses, valid_epoch_losses, y_valid_pred_class, y_valid_predictions = Train_Evaluate_TheModel(gru_model, 10, 32, \n",
        "                                                                                                          loss_function, gru_optimizer, \n",
        "                                                                                                          train_seq, training_df['label'],\n",
        "                                                                                                          valid_seq, validation_df['label'])"
      ]
    },
    {
      "cell_type": "code",
      "execution_count": null,
      "metadata": {
        "colab": {
          "base_uri": "https://localhost:8080/",
          "height": 295
        },
        "id": "aDbX4mDXhZ2T",
        "outputId": "dd6bfc47-3aea-4549-e809-f6e275090d00"
      },
      "outputs": [
        {
          "data": {
            "image/png": "[encoded data removed]",
            "text/plain": [
              "<Figure size 432x288 with 1 Axes>"
            ]
          },
          "metadata": {
            "needs_background": "light"
          },
          "output_type": "display_data"
        }
      ],
      "source": [
        "epochs = np.arange(0, 10).tolist()\n",
        "Learning_Curve(epochs, train_epoch_losses, valid_epoch_losses)"
      ]
    },
    {
      "cell_type": "code",
      "execution_count": null,
      "metadata": {
        "id": "pwSpI-sxhZ2T"
      },
      "outputs": [],
      "source": [
        "y_training_df = pd.DataFrame(training_df['label'])\n",
        "y_validation_df = pd.DataFrame(validation_df['label'])\n",
        "y_train = torch.tensor(y_training_df.values)\n",
        "y_valid = torch.tensor(y_validation_df.values)\n",
        "y_valid_predicted_classes = ConvertToTensor(y_valid_pred_class, y_valid.shape)\n",
        "y_valid_predictions = ConvertToTensor(y_valid_predictions, (y_valid.shape[0], num_classes))\n"
      ]
    },
    {
      "cell_type": "code",
      "execution_count": null,
      "metadata": {
        "colab": {
          "base_uri": "https://localhost:8080/"
        },
        "id": "BZ_SeKQ3hZ2T",
        "outputId": "168b131d-a8b3-454a-f6b1-77d210e00555"
      },
      "outputs": [
        {
          "name": "stdout",
          "output_type": "stream",
          "text": [
            "              precision    recall  f1-score   support\n",
            "\n",
            "     class 0       0.64      0.77      0.70      1065\n",
            "     class 1       0.53      0.25      0.34       296\n",
            "     class 2       0.60      0.56      0.58       921\n",
            "\n",
            "    accuracy                           0.62      2282\n",
            "   macro avg       0.59      0.53      0.54      2282\n",
            "weighted avg       0.61      0.62      0.60      2282\n",
            "\n",
            "Precision score:\t 0.5909013500207271\n",
            "Recall score:\t\t 0.5263356040813948\n",
            "F1 score:\t\t 0.5388881056286133\n"
          ]
        }
      ],
      "source": [
        "calculate_metrics(y_valid, y_valid_predictions, y_valid_predicted_classes)"
      ]
    },
    {
      "cell_type": "code",
      "execution_count": null,
      "metadata": {
        "colab": {
          "base_uri": "https://localhost:8080/",
          "height": 295
        },
        "id": "MejX85x7hZ2U",
        "outputId": "f7f1b483-2636-4d30-d879-5e0578a89698"
      },
      "outputs": [
        {
          "data": {
            "image/png": "[encoded data removed]",
            "text/plain": [
              "<Figure size 432x288 with 1 Axes>"
            ]
          },
          "metadata": {
            "needs_background": "light"
          },
          "output_type": "display_data"
        }
      ],
      "source": [
        "ROC_Curve(y_valid, y_valid_predictions)"
      ]
    },
    {
      "cell_type": "markdown",
      "metadata": {
        "id": "HJrxxf1MOMe6"
      },
      "source": [
        "### <font color='purple'>5</font>"
      ]
    },
    {
      "cell_type": "code",
      "execution_count": null,
      "metadata": {
        "id": "yWGxsBsXofRB"
      },
      "outputs": [],
      "source": [
        "#Truncate the sentences to maximum 15 words\n",
        "train_cut_encoded_sentences = Truncate_sentences(train_encoded_sentences, 15)\n",
        "valid_cut_encoded_sentences = Truncate_sentences(valid_encoded_sentences, 15)\n",
        "train_seq = train_cut_encoded_sentences  #list of tensors with diff dimensions\n",
        "valid_seq = valid_cut_encoded_sentences\n",
        "\n",
        "def InitializeDataloader(x_data, y_data, batch_size):\n",
        "  \n",
        "  #Separate features and targets and save in tensors\n",
        "  sequence = x_data\n",
        "  target = y_data\n",
        "  #Pad the sequence\n",
        "  padded_sentences = torch.nn.utils.rnn.pad_sequence(sequence, batch_first=True, padding_value=0)\n",
        "  sentences_lengths = torch.LongTensor(list(map(len,sequence)))\n",
        "  x = padded_sentences\n",
        "  y_df = pd.DataFrame(target)\n",
        "  y = torch.tensor(y_df.values)\n",
        "\n",
        "  #Initialize dataloader\n",
        "  dataset = torch.utils.data.TensorDataset(x, y)\n",
        "  dataloader = DataLoader(dataset, batch_size=batch_size, shuffle=False)\n",
        "\n",
        "  return dataloader, sentences_lengths"
      ]
    },
    {
      "cell_type": "code",
      "execution_count": null,
      "metadata": {
        "colab": {
          "base_uri": "https://localhost:8080/"
        },
        "id": "502UpOm6ofRB",
        "outputId": "10683a67-44bf-4e9b-d4ec-b1c150947dcd"
      },
      "outputs": [
        {
          "name": "stdout",
          "output_type": "stream",
          "text": [
            "Epoch   0: Training Loss = 0.96987\n",
            "Epoch   0: Validation Loss = 0.93286\n",
            "Epoch   1: Training Loss = 0.90713\n",
            "Epoch   1: Validation Loss = 0.90396\n",
            "Epoch   2: Training Loss = 0.87663\n",
            "Epoch   2: Validation Loss = 0.88350\n",
            "Epoch   3: Training Loss = 0.85357\n",
            "Epoch   3: Validation Loss = 0.87006\n",
            "Epoch   4: Training Loss = 0.83291\n",
            "Epoch   4: Validation Loss = 0.85919\n",
            "Epoch   5: Training Loss = 0.81557\n",
            "Epoch   5: Validation Loss = 0.85407\n",
            "Epoch   6: Training Loss = 0.79960\n",
            "Epoch   6: Validation Loss = 0.85245\n",
            "Epoch   7: Training Loss = 0.78224\n",
            "Epoch   7: Validation Loss = 0.85158\n",
            "Epoch   8: Training Loss = 0.76790\n",
            "Epoch   8: Validation Loss = 0.85622\n",
            "Epoch   9: Training Loss = 0.75445\n",
            "Epoch   9: Validation Loss = 0.85852\n"
          ]
        }
      ],
      "source": [
        "num_hidden = 48  #bigger overfits \n",
        "num_classes = 3\n",
        "learning_rate = 0.0005\n",
        "num_stacked_layers = 2 #maybe increase\n",
        "input_size = embedding_weights.shape[0]    #size of the vocab of the trainign set\n",
        "embedding_dimension = embedding_weights.shape[1]\n",
        "\n",
        "# 28.921, 200, 3, [32437, 50], 50, 4\n",
        "gru_model = RNN(input_size, num_hidden, num_classes, embedding_weights, embedding_dimension, num_stacked_layers, cell_type='GRU')\n",
        "loss_function = nn.CrossEntropyLoss()\n",
        "gru_optimizer = optim.Adam(gru_model.parameters(), lr=0.0003, weight_decay=1e-4)\n",
        "\n",
        "#TRAIN AND EVALUATE THE MODEL\n",
        "train_epoch_losses, valid_epoch_losses, y_valid_pred_class, y_valid_predictions = Train_Evaluate_TheModel(gru_model, 10, 32, \n",
        "                                                                                                          loss_function, gru_optimizer, \n",
        "                                                                                                          train_seq, training_df['label'],\n",
        "                                                                                                          valid_seq, validation_df['label'])"
      ]
    },
    {
      "cell_type": "code",
      "execution_count": null,
      "metadata": {
        "colab": {
          "base_uri": "https://localhost:8080/",
          "height": 295
        },
        "id": "jhjGEBEyofRB",
        "outputId": "2bb20638-ae01-4a6e-b0bb-f34b1b126fb8"
      },
      "outputs": [
        {
          "data": {
            "image/png": "[encoded data removed]",
            "text/plain": [
              "<Figure size 432x288 with 1 Axes>"
            ]
          },
          "metadata": {
            "needs_background": "light"
          },
          "output_type": "display_data"
        }
      ],
      "source": [
        "epochs = np.arange(0, 10).tolist()\n",
        "Learning_Curve(epochs, train_epoch_losses, valid_epoch_losses)"
      ]
    },
    {
      "cell_type": "code",
      "execution_count": null,
      "metadata": {
        "id": "MfI-05GYofRC"
      },
      "outputs": [],
      "source": [
        "y_training_df = pd.DataFrame(training_df['label'])\n",
        "y_validation_df = pd.DataFrame(validation_df['label'])\n",
        "y_train = torch.tensor(y_training_df.values)\n",
        "y_valid = torch.tensor(y_validation_df.values)\n",
        "y_valid_predicted_classes = ConvertToTensor(y_valid_pred_class, y_valid.shape)\n",
        "y_valid_predictions = ConvertToTensor(y_valid_predictions, (y_valid.shape[0], num_classes))\n"
      ]
    },
    {
      "cell_type": "code",
      "execution_count": null,
      "metadata": {
        "colab": {
          "base_uri": "https://localhost:8080/"
        },
        "id": "GZIJPfdtofRC",
        "outputId": "181a46d8-6f66-4854-b30c-ed4ecd7c921e"
      },
      "outputs": [
        {
          "name": "stdout",
          "output_type": "stream",
          "text": [
            "              precision    recall  f1-score   support\n",
            "\n",
            "     class 0       0.63      0.76      0.69      1065\n",
            "     class 1       0.55      0.19      0.28       296\n",
            "     class 2       0.59      0.58      0.58       921\n",
            "\n",
            "    accuracy                           0.61      2282\n",
            "   macro avg       0.59      0.51      0.52      2282\n",
            "weighted avg       0.60      0.61      0.59      2282\n",
            "\n",
            "Precision score:\t 0.590517033826893\n",
            "Recall score:\t\t 0.50984378997523\n",
            "F1 score:\t\t 0.5197908699262622\n"
          ]
        }
      ],
      "source": [
        "calculate_metrics(y_valid, y_valid_predictions, y_valid_predicted_classes)"
      ]
    },
    {
      "cell_type": "code",
      "execution_count": null,
      "metadata": {
        "colab": {
          "base_uri": "https://localhost:8080/",
          "height": 295
        },
        "id": "QbTOVDfKofRC",
        "outputId": "775483a3-7413-42b3-b61d-255ea8f50d91"
      },
      "outputs": [
        {
          "data": {
            "image/png": "[encoded data removed]",
            "text/plain": [
              "<Figure size 432x288 with 1 Axes>"
            ]
          },
          "metadata": {
            "needs_background": "light"
          },
          "output_type": "display_data"
        }
      ],
      "source": [
        "ROC_Curve(y_valid, y_valid_predictions)"
      ]
    },
    {
      "cell_type": "markdown",
      "metadata": {
        "id": "m-oOJj3mOnQd"
      },
      "source": [
        "# <font color='magenta'>RUN THE LSTM MODEL (example) </font>"
      ]
    },
    {
      "cell_type": "code",
      "execution_count": 272,
      "metadata": {
        "colab": {
          "base_uri": "https://localhost:8080/"
        },
        "id": "BliW586dOnQ1",
        "outputId": "2ed2130c-0ea2-4c13-e367-53ef62df3361"
      },
      "outputs": [
        {
          "name": "stdout",
          "output_type": "stream",
          "text": [
            "Epoch   0: Training Loss = 0.92505\n",
            "Epoch   0: Validation Loss = 0.88525\n",
            "Epoch   1: Training Loss = 0.84733\n",
            "Epoch   1: Validation Loss = 0.81524\n",
            "Epoch   2: Training Loss = 0.81636\n",
            "Epoch   2: Validation Loss = 0.79114\n",
            "Epoch   3: Training Loss = 0.79647\n",
            "Epoch   3: Validation Loss = 0.77442\n",
            "Epoch   4: Training Loss = 0.77366\n",
            "Epoch   4: Validation Loss = 0.75982\n",
            "Epoch   5: Training Loss = 0.75363\n",
            "Epoch   5: Validation Loss = 0.74432\n",
            "Epoch   6: Training Loss = 0.73883\n",
            "Epoch   6: Validation Loss = 0.73927\n",
            "Epoch   7: Training Loss = 0.72657\n",
            "Epoch   7: Validation Loss = 0.73404\n",
            "Epoch   8: Training Loss = 0.70849\n",
            "Epoch   8: Validation Loss = 0.72338\n",
            "Epoch   9: Training Loss = 0.69983\n",
            "Epoch   9: Validation Loss = 0.72767\n"
          ]
        }
      ],
      "source": [
        "num_hidden = 64  #bigger overfits \n",
        "num_classes = 3\n",
        "learning_rate = 0.0005\n",
        "num_stacked_layers = 3 #maybe increase\n",
        "input_size = embedding_weights.shape[0]    #size of the vocab of the trainign set\n",
        "embedding_dimension = embedding_weights.shape[1]\n",
        "\n",
        "# 32437, 200, 3, [32437, 200], 200, 2\n",
        "lstm_model = RNN(input_size, num_hidden, num_classes, embedding_weights, embedding_dimension, num_stacked_layers)\n",
        "loss_function = nn.CrossEntropyLoss()\n",
        "lstm_optimizer = optim.Adam(lstm_model.parameters(), lr=0.0004, weight_decay=1e-4)\n",
        "\n",
        "#TRAIN AND EVALUATE THE MODEL\n",
        "train_epoch_losses, valid_epoch_losses, y_valid_pred_class, y_valid_predictions = Train_Evaluate_TheModel(lstm_model, 10, 32, \n",
        "                                                                                                          loss_function, lstm_optimizer,\n",
        "                                                                                                          train_seq, training_df['label'],\n",
        "                                                                                                          valid_seq, validation_df['label'])"
      ]
    },
    {
      "cell_type": "code",
      "execution_count": 273,
      "metadata": {
        "colab": {
          "base_uri": "https://localhost:8080/",
          "height": 295
        },
        "id": "EIcBq1OROnQ2",
        "outputId": "54537806-b4e4-4ef3-e9da-61deaeef6550"
      },
      "outputs": [
        {
          "data": {
            "image/png": "[encoded data removed]",
            "text/plain": [
              "<Figure size 432x288 with 1 Axes>"
            ]
          },
          "metadata": {
            "needs_background": "light"
          },
          "output_type": "display_data"
        }
      ],
      "source": [
        "epochs = np.arange(0, 10).tolist()\n",
        "Learning_Curve(epochs, train_epoch_losses, valid_epoch_losses)"
      ]
    },
    {
      "cell_type": "code",
      "execution_count": 274,
      "metadata": {
        "id": "TkwndAGlOnQ3"
      },
      "outputs": [],
      "source": [
        "y_training_df = pd.DataFrame(training_df['label'])\n",
        "y_validation_df = pd.DataFrame(validation_df['label'])\n",
        "y_train = torch.tensor(y_training_df.values)\n",
        "y_valid = torch.tensor(y_validation_df.values)\n",
        "y_valid_predicted_classes = ConvertToTensor(y_valid_pred_class, y_valid.shape)\n",
        "y_valid_predictions = ConvertToTensor(y_valid_predictions, (y_valid.shape[0], num_classes))\n"
      ]
    },
    {
      "cell_type": "code",
      "execution_count": 275,
      "metadata": {
        "colab": {
          "base_uri": "https://localhost:8080/"
        },
        "id": "AGZ2U8z3OnQ3",
        "outputId": "f44ac31f-95a3-4913-c41a-f18709f1a1ba"
      },
      "outputs": [
        {
          "name": "stdout",
          "output_type": "stream",
          "text": [
            "              precision    recall  f1-score   support\n",
            "\n",
            "     class 0       0.79      0.72      0.75      1065\n",
            "     class 1       0.48      0.32      0.38       296\n",
            "     class 2       0.63      0.75      0.68       921\n",
            "\n",
            "    accuracy                           0.68      2282\n",
            "   macro avg       0.63      0.60      0.61      2282\n",
            "weighted avg       0.68      0.68      0.68      2282\n",
            "\n",
            "Precision score:\t 0.6296749565654538\n",
            "Recall score:\t\t 0.5977610392426652\n",
            "F1 score:\t\t 0.6062617175636906\n"
          ]
        }
      ],
      "source": [
        "calculate_metrics(y_valid, y_valid_predictions, y_valid_predicted_classes)"
      ]
    },
    {
      "cell_type": "code",
      "execution_count": 276,
      "metadata": {
        "colab": {
          "base_uri": "https://localhost:8080/",
          "height": 295
        },
        "id": "Z75ewMbNOnQ3",
        "outputId": "863227b5-8183-49eb-ebac-9852258df47e"
      },
      "outputs": [
        {
          "data": {
            "image/png": "[encoded data removed]",
            "text/plain": [
              "<Figure size 432x288 with 1 Axes>"
            ]
          },
          "metadata": {
            "needs_background": "light"
          },
          "output_type": "display_data"
        }
      ],
      "source": [
        "ROC_Curve(y_valid, y_valid_predictions)"
      ]
    }
  ],
  "metadata": {
    "colab": {
      "collapsed_sections": [
        "nBHRJXJZEa2G",
        "Z-8FXn_DqciK",
        "qWFQdp9xq1wG",
        "R4o5VOX_rbnq",
        "3XSIRINCxfPB",
        "dgYqNvaEWrha",
        "tgXnCTmYBRct",
        "mux3sVDVEkHa",
        "1CtHPCkMGaf_",
        "uLDTr7QdQQaq",
        "a2rWfdbgyvrh",
        "8DlhORCoK-mR",
        "cETeY3R9LIZL",
        "Agi9kCf0NCCK",
        "GgM6vyTSN9SV",
        "jMp_CVTdN-71",
        "4cHLeqQZODMA",
        "nn2_HcLJOG7l",
        "DeW1Fw2BLgn6",
        "wW7gzPKUNQOr",
        "MkC0qwbxOMe5",
        "saJmZtQ9OMe5",
        "TQ1oiJmyOMe6",
        "HJrxxf1MOMe6",
        "m-oOJj3mOnQd"
      ],
      "name": "erg3.ipynb",
      "provenance": []
    },
    "kernelspec": {
      "display_name": "Python 3",
      "name": "python3"
    },
    "language_info": {
      "name": "python"
    }
  },
  "nbformat": 4,
  "nbformat_minor": 0
}
